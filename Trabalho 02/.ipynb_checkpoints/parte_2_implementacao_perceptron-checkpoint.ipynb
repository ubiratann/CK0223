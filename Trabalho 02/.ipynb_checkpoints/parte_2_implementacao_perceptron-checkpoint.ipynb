{
 "cells": [
  {
   "cell_type": "markdown",
   "metadata": {},
   "source": [
    "## Implementação de um Classificador Perceptron"
   ]
  },
  {
   "cell_type": "code",
   "execution_count": null,
   "metadata": {},
   "outputs": [],
   "source": [
    "import numpy as np\n",
    "import pandas as pd\n",
    "import matplotlib.pyplot as plt\n",
    "\n",
    "df = pd.read_csv('gun-violence-data_01-2013_03-2018.csv')\n",
    "\n",
    "class Perceptron(object):\n",
    "    \"\"\"Perceptron classifier.\n",
    "\n",
    "    Parameters\n",
    "    ------------\n",
    "    eta : float\n",
    "      Learning rate (between 0.0 and 1.0)\n",
    "    n_iter : int\n",
    "      Passes over the training dataset.\n",
    "    random_state : int\n",
    "      Random number generator seed for random weight\n",
    "      initialization.\n",
    "\n",
    "    Attributes\n",
    "    -----------\n",
    "    w_ : 1d-array\n",
    "      Weights after fitting.\n",
    "    errors_ : list\n",
    "      Number of misclassifications (updates) in each epoch.\n",
    "\n",
    "    \"\"\"\n",
    "    def __init__(self, eta=0.01, n_iter=50, random_state=1):\n",
    "        self.eta = eta\n",
    "        self.n_iter = n_iter\n",
    "        self.random_state = random_state\n",
    "\n",
    "    def fit(self, X, y):\n",
    "        \"\"\"Fit training data.\n",
    "\n",
    "        Parameters\n",
    "        ----------\n",
    "        X : {array-like}, shape = [n_examples, n_features]\n",
    "          Training vectors, where n_examples is the number of examples and\n",
    "          n_features is the number of features.\n",
    "        y : array-like, shape = [n_examples]\n",
    "          Target values.\n",
    "\n",
    "        Returns\n",
    "        -------\n",
    "        self : object\n",
    "\n",
    "        \"\"\"\n",
    "        rgen = np.random.RandomState(self.random_state)\n",
    "        self.w_ = rgen.normal(loc=0.0, scale=0.01, size=1 + X.shape[1])\n",
    "        self.errors_ = []\n",
    "\n",
    "        for _ in range(self.n_iter):\n",
    "            errors = 0\n",
    "            for xi, target in zip(X, y):\n",
    "                update = self.eta * (target - self.predict(xi))\n",
    "                self.w_[1:] += update * xi\n",
    "                self.w_[0] += update\n",
    "                errors += int(update != 0.0)\n",
    "            self.errors_.append(errors)\n",
    "        return self\n",
    "\n",
    "    def net_input(self, X):\n",
    "        \"\"\"Calculate net input\"\"\"\n",
    "        return np.dot(X, self.w_[1:]) + self.w_[0]\n",
    "\n",
    "    def predict(self, X):\n",
    "        \"\"\"Return class label after unit step\"\"\"\n",
    "        return np.where(self.net_input(X) >= 0.0, 1, -1)"
   ]
  },
  {
   "cell_type": "markdown",
   "metadata": {},
   "source": [
    "## Testando o classificador Perceptron"
   ]
  },
  {
   "cell_type": "code",
   "execution_count": null,
   "metadata": {
    "scrolled": true
   },
   "outputs": [],
   "source": [
    "\"\"\"Dados de Treinamento \"\"\"\n",
    "X = np.array([[1,1],[2,2],[3,3]])\n",
    "y = np.array([1,1,-1])\n",
    "\n",
    "\"\"\"Criando objeto Perceptron\"\"\"\n",
    "ppn = Perceptron(eta=0.1, n_iter=100)\n",
    "\n",
    "\"\"\"Treinando o modelo\"\"\"\n",
    "ppn.fit(X, y)\n",
    "\n",
    "\"\"\"Testando modelo treinado \"\"\"\n",
    "X_newdata = np.array([[4,4],[2,2],[3,3]])\n",
    "print(\"Resultado da Predição\",ppn.predict(X_newdata));"
   ]
  },
  {
   "cell_type": "markdown",
   "metadata": {},
   "source": [
    "## Questao 1 - Implemente uma função para calcular a acurácia do modelo"
   ]
  },
  {
   "cell_type": "code",
   "execution_count": null,
   "metadata": {},
   "outputs": [],
   "source": [
    "def model_accuracy(data, perc_result):\n",
    "    accuracy = 0\n",
    "    accumulator = 0\n",
    "    accumulator = sum([1 if i == j else 0 for i,j in zip(data,perc_result)])\n",
    "#     for i in range(len(perc_result)):\n",
    "#         if(data[i] == perc_result[i]):\n",
    "#             accumulator += 1\n",
    "    accuracy = accumulator / len(perc_result)\n",
    "    return accuracy"
   ]
  },
  {
   "cell_type": "markdown",
   "metadata": {},
   "source": [
    "## Questao 2 - Implemente um método de validação cruzada para testar "
   ]
  },
  {
   "cell_type": "code",
   "execution_count": null,
   "metadata": {},
   "outputs": [],
   "source": [
    "def cross_validation(data, label, k=None):\n",
    "    \n",
    "    k = len(data)//5 if k == None else k\n",
    "    \n",
    "    performance = 0\n",
    "    ppnToCross = Perceptron(eta=0.1, n_iter=100)\n",
    "   \n",
    "    for i in range(k):\n",
    "        \n",
    "        \"\"\"Separando dados que não vão ser treinados\"\"\"\n",
    "        validation_fold = data[i*k:(i*k)+k]        \n",
    "        validation_fold_label = label[i*k:(i*k)+k]\n",
    "        \n",
    "        \n",
    "        \"\"\"Separando dados que vão ser treinados\"\"\"\n",
    "        training_fold = np.concatenate((data[:i*k],data[(i*k)+k:]))\n",
    "        training_fold_label = np.concatenate((label[:i*k],label[(i*k)+k:]))\n",
    "        \n",
    "        \"\"\"Treinando o modelo\"\"\"\n",
    "        ppnToCross.fit(np.array(training_fold), np.array(training_fold_label))\n",
    "        \n",
    "        \"\"\"Testando o modelo treinado\"\"\"\n",
    "        performance += model_accuracy(validation_fold_label,ppn.predict(validation_fold))\n",
    "    \n",
    "    return performance/k"
   ]
  },
  {
   "cell_type": "markdown",
   "metadata": {},
   "source": [
    "## Teste o classificador usando um conjunto de dados linearmente separável e outro não linearmente separável\n",
    "### Sugestão: crie datasets sintéticos com apenas dois atributos para voce poder visualizar a separação das classes"
   ]
  },
  {
   "cell_type": "code",
   "execution_count": null,
   "metadata": {},
   "outputs": [],
   "source": [
    "# \"\"\"Testando o modelo com conjunto de dados linearmente separável\"\"\"\n",
    "X = np.array([[8,1],[8,5],[4,5],[2,3],[2,5],[5,1],[6,2],[1,6],[5,7],[3,6],[7,7],[8,3],[9,4],[10,3],[9,1],[3,7],[1,4],[6,3],[4,2],[6,6],[5,6],[4,6],[9,2],[6,1],[10,5]])\n",
    "y = np.array([-1,-1,1,-1,1,-1,-1,1,1,1,1,-1,-1,-1,-1,1,1,-1,-1,1,1,1,-1,-1,-1])\n",
    "cross_validation(X,y)\n"
   ]
  },
  {
   "cell_type": "code",
   "execution_count": null,
   "metadata": {},
   "outputs": [],
   "source": [
    "\"\"\"Testando o modelo com conjunto de dados não linearmente separável\"\"\"\n",
    "X = np.array([[8,1],[8,5],[4,5],[2,3],[2,5],[5,1],[6,2],[1,6],[5,7],[3,6],[7,7],[8,3],[9,4],[10,3],[9,1],[3,7],[1,4],[6,3],[4,2],[6,6],[5,6],[4,6],[9,2],[6,1],[10,5]])\n",
    "y = np.array([-1,1,1,-1,1,-1,-1,-1,1,1,1,1,1,-1,-1,1,-1,1,-1,1,1,1,-1,-1,1])\n",
    "cross_validation(X,y)"
   ]
  },
  {
   "cell_type": "markdown",
   "metadata": {},
   "source": [
    "## Questao 3 - Treine um classificador perceptron para os dados de seu estudo de caso"
   ]
  },
  {
   "cell_type": "code",
   "execution_count": null,
   "metadata": {},
   "outputs": [],
   "source": [
    "recorte = pd.DataFrame(df, columns=[\"latitude\",\"longitude\"]).dropna().reset_index()\n",
    "latitude = recorte.latitude\n",
    "longitude = recorte.longitude\n",
    "\n",
    "# y = []\n",
    "# for i in range(len(latitude)):\n",
    "# #     print(i)\n",
    "#     t = np.float64(37.1491475)\n",
    "#     if(latitude[i] >= t):\n",
    "#         y.append(1)\n",
    "#     else:\n",
    "#         y.append(-1)\n",
    "\n",
    "y_ = [1 if i >= 37.1491475 else -1 for i in latitude ]\n",
    "# y == y_"
   ]
  },
  {
   "cell_type": "code",
   "execution_count": null,
   "metadata": {},
   "outputs": [],
   "source": [
    "# X = []\n",
    "# for i in range(len(latitude)):\n",
    "#     x = [latitude[i],longitude[i]]\n",
    "#     X.append(x)\n",
    "\n",
    "X_ = [[i,j] for i,j in zip(latitude,longitude)]\n",
    "\n",
    "# X_ == X"
   ]
  },
  {
   "cell_type": "markdown",
   "metadata": {},
   "source": [
    "### resultado esperado para a predição -> [1,-1,-1,1,1]"
   ]
  },
  {
   "cell_type": "code",
   "execution_count": null,
   "metadata": {},
   "outputs": [],
   "source": [
    "ppnQ3 = Perceptron(eta=0.1, n_iter=2)\n",
    "\n",
    "\"\"\"Treinando o modelo\"\"\"\n",
    "ppn.fit(np.array(X), np.array(y))\n",
    "\n",
    "\"\"\"Testando modelo treinado \"\"\"\n",
    "X_newdata = np.array([[43.702580, -115.340433],[32.037827, -90.262025],[35.453457, -116.431459],[48.364965, -119.287904],[38.7067, -90.2494]])\n",
    "print(\"Resultado da Predição\",ppn.predict(X_newdata));"
   ]
  },
  {
   "cell_type": "code",
   "execution_count": null,
   "metadata": {},
   "outputs": [],
   "source": [
    "len(latitude)"
   ]
  },
  {
   "cell_type": "code",
   "execution_count": null,
   "metadata": {},
   "outputs": [],
   "source": []
  }
 ],
 "metadata": {
  "kernelspec": {
   "display_name": "Python 3",
   "language": "python",
   "name": "python3"
  },
  "language_info": {
   "codemirror_mode": {
    "name": "ipython",
    "version": 3
   },
   "file_extension": ".py",
   "mimetype": "text/x-python",
   "name": "python",
   "nbconvert_exporter": "python",
   "pygments_lexer": "ipython3",
   "version": "3.8.5"
  }
 },
 "nbformat": 4,
 "nbformat_minor": 4
}
