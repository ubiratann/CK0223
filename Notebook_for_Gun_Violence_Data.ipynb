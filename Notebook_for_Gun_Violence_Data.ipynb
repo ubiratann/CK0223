{
 "cells": [
  {
   "cell_type": "markdown",
   "metadata": {},
   "source": [
    "## ANAL ises:\n",
    "    1. Pelos dados da análise, o número de participações de menores nos crime abordados é bastante pequeno em relação ao total o que nos poderia dar ideia de que a maior idade cumpre seu papel nos states, mas tratando o grupo de menores como um todo e olhamos para os que responderima por seu crime na região dos estados unidos, analise (meme)\n",
    "    \n",
    "    2 Analisar a coluna dos states houses e fazer uma inferencia política \n",
    "    \n",
    "    3 Mapa de calor de onde acontece mais crimes (nao sabemos como faz entao se garantia)\n",
    "    \n",
    "    4 O mês em que ocorrem mais crimes e realizar inferencias com datas especiais\n",
    "    \n",
    "    5 Crimes domesticos\n",
    "    \n",
    "    "
   ]
  },
  {
   "cell_type": "code",
   "execution_count": 1,
   "metadata": {},
   "outputs": [],
   "source": [
    "\n",
    "\n",
    "%matplotlib inline\n",
    "import numpy as np\n",
    "import pandas as pd\n",
    "import matplotlib.pyplot as plt\n",
    "\n",
    "df = pd.read_csv('gun-violence-data_01-2013_03-2018.csv')"
   ]
  },
  {
   "cell_type": "code",
   "execution_count": 2,
   "metadata": {},
   "outputs": [
    {
     "data": {
      "text/html": [
       "<div>\n",
       "<style scoped>\n",
       "    .dataframe tbody tr th:only-of-type {\n",
       "        vertical-align: middle;\n",
       "    }\n",
       "\n",
       "    .dataframe tbody tr th {\n",
       "        vertical-align: top;\n",
       "    }\n",
       "\n",
       "    .dataframe thead th {\n",
       "        text-align: right;\n",
       "    }\n",
       "</style>\n",
       "<table border=\"1\" class=\"dataframe\">\n",
       "  <thead>\n",
       "    <tr style=\"text-align: right;\">\n",
       "      <th></th>\n",
       "      <th>incident_id</th>\n",
       "      <th>date</th>\n",
       "      <th>state</th>\n",
       "      <th>city_or_county</th>\n",
       "      <th>address</th>\n",
       "      <th>n_killed</th>\n",
       "      <th>n_injured</th>\n",
       "      <th>incident_url</th>\n",
       "      <th>source_url</th>\n",
       "      <th>incident_url_fields_missing</th>\n",
       "      <th>...</th>\n",
       "      <th>participant_age</th>\n",
       "      <th>participant_age_group</th>\n",
       "      <th>participant_gender</th>\n",
       "      <th>participant_name</th>\n",
       "      <th>participant_relationship</th>\n",
       "      <th>participant_status</th>\n",
       "      <th>participant_type</th>\n",
       "      <th>sources</th>\n",
       "      <th>state_house_district</th>\n",
       "      <th>state_senate_district</th>\n",
       "    </tr>\n",
       "  </thead>\n",
       "  <tbody>\n",
       "    <tr>\n",
       "      <th>0</th>\n",
       "      <td>461105</td>\n",
       "      <td>2013-01-01</td>\n",
       "      <td>Pennsylvania</td>\n",
       "      <td>Mckeesport</td>\n",
       "      <td>1506 Versailles Avenue and Coursin Street</td>\n",
       "      <td>0</td>\n",
       "      <td>4</td>\n",
       "      <td>http://www.gunviolencearchive.org/incident/461105</td>\n",
       "      <td>http://www.post-gazette.com/local/south/2013/0...</td>\n",
       "      <td>False</td>\n",
       "      <td>...</td>\n",
       "      <td>0::20</td>\n",
       "      <td>0::Adult 18+||1::Adult 18+||2::Adult 18+||3::A...</td>\n",
       "      <td>0::Male||1::Male||3::Male||4::Female</td>\n",
       "      <td>0::Julian Sims</td>\n",
       "      <td>NaN</td>\n",
       "      <td>0::Arrested||1::Injured||2::Injured||3::Injure...</td>\n",
       "      <td>0::Victim||1::Victim||2::Victim||3::Victim||4:...</td>\n",
       "      <td>http://pittsburgh.cbslocal.com/2013/01/01/4-pe...</td>\n",
       "      <td>NaN</td>\n",
       "      <td>NaN</td>\n",
       "    </tr>\n",
       "    <tr>\n",
       "      <th>1</th>\n",
       "      <td>460726</td>\n",
       "      <td>2013-01-01</td>\n",
       "      <td>California</td>\n",
       "      <td>Hawthorne</td>\n",
       "      <td>13500 block of Cerise Avenue</td>\n",
       "      <td>1</td>\n",
       "      <td>3</td>\n",
       "      <td>http://www.gunviolencearchive.org/incident/460726</td>\n",
       "      <td>http://www.dailybulletin.com/article/zz/201301...</td>\n",
       "      <td>False</td>\n",
       "      <td>...</td>\n",
       "      <td>0::20</td>\n",
       "      <td>0::Adult 18+||1::Adult 18+||2::Adult 18+||3::A...</td>\n",
       "      <td>0::Male</td>\n",
       "      <td>0::Bernard Gillis</td>\n",
       "      <td>NaN</td>\n",
       "      <td>0::Killed||1::Injured||2::Injured||3::Injured</td>\n",
       "      <td>0::Victim||1::Victim||2::Victim||3::Victim||4:...</td>\n",
       "      <td>http://losangeles.cbslocal.com/2013/01/01/man-...</td>\n",
       "      <td>62.0</td>\n",
       "      <td>35.0</td>\n",
       "    </tr>\n",
       "    <tr>\n",
       "      <th>2</th>\n",
       "      <td>478855</td>\n",
       "      <td>2013-01-01</td>\n",
       "      <td>Ohio</td>\n",
       "      <td>Lorain</td>\n",
       "      <td>1776 East 28th Street</td>\n",
       "      <td>1</td>\n",
       "      <td>3</td>\n",
       "      <td>http://www.gunviolencearchive.org/incident/478855</td>\n",
       "      <td>http://chronicle.northcoastnow.com/2013/02/14/...</td>\n",
       "      <td>False</td>\n",
       "      <td>...</td>\n",
       "      <td>0::25||1::31||2::33||3::34||4::33</td>\n",
       "      <td>0::Adult 18+||1::Adult 18+||2::Adult 18+||3::A...</td>\n",
       "      <td>0::Male||1::Male||2::Male||3::Male||4::Male</td>\n",
       "      <td>0::Damien Bell||1::Desmen Noble||2::Herman Sea...</td>\n",
       "      <td>NaN</td>\n",
       "      <td>0::Injured, Unharmed, Arrested||1::Unharmed, A...</td>\n",
       "      <td>0::Subject-Suspect||1::Subject-Suspect||2::Vic...</td>\n",
       "      <td>http://www.morningjournal.com/general-news/201...</td>\n",
       "      <td>56.0</td>\n",
       "      <td>13.0</td>\n",
       "    </tr>\n",
       "    <tr>\n",
       "      <th>3</th>\n",
       "      <td>478925</td>\n",
       "      <td>2013-01-05</td>\n",
       "      <td>Colorado</td>\n",
       "      <td>Aurora</td>\n",
       "      <td>16000 block of East Ithaca Place</td>\n",
       "      <td>4</td>\n",
       "      <td>0</td>\n",
       "      <td>http://www.gunviolencearchive.org/incident/478925</td>\n",
       "      <td>http://www.dailydemocrat.com/20130106/aurora-s...</td>\n",
       "      <td>False</td>\n",
       "      <td>...</td>\n",
       "      <td>0::29||1::33||2::56||3::33</td>\n",
       "      <td>0::Adult 18+||1::Adult 18+||2::Adult 18+||3::A...</td>\n",
       "      <td>0::Female||1::Male||2::Male||3::Male</td>\n",
       "      <td>0::Stacie Philbrook||1::Christopher Ratliffe||...</td>\n",
       "      <td>NaN</td>\n",
       "      <td>0::Killed||1::Killed||2::Killed||3::Killed</td>\n",
       "      <td>0::Victim||1::Victim||2::Victim||3::Subject-Su...</td>\n",
       "      <td>http://denver.cbslocal.com/2013/01/06/officer-...</td>\n",
       "      <td>40.0</td>\n",
       "      <td>28.0</td>\n",
       "    </tr>\n",
       "    <tr>\n",
       "      <th>4</th>\n",
       "      <td>478959</td>\n",
       "      <td>2013-01-07</td>\n",
       "      <td>North Carolina</td>\n",
       "      <td>Greensboro</td>\n",
       "      <td>307 Mourning Dove Terrace</td>\n",
       "      <td>2</td>\n",
       "      <td>2</td>\n",
       "      <td>http://www.gunviolencearchive.org/incident/478959</td>\n",
       "      <td>http://www.journalnow.com/news/local/article_d...</td>\n",
       "      <td>False</td>\n",
       "      <td>...</td>\n",
       "      <td>0::18||1::46||2::14||3::47</td>\n",
       "      <td>0::Adult 18+||1::Adult 18+||2::Teen 12-17||3::...</td>\n",
       "      <td>0::Female||1::Male||2::Male||3::Female</td>\n",
       "      <td>0::Danielle Imani Jameison||1::Maurice Eugene ...</td>\n",
       "      <td>3::Family</td>\n",
       "      <td>0::Injured||1::Injured||2::Killed||3::Killed</td>\n",
       "      <td>0::Victim||1::Victim||2::Victim||3::Subject-Su...</td>\n",
       "      <td>http://myfox8.com/2013/01/08/update-mother-sho...</td>\n",
       "      <td>62.0</td>\n",
       "      <td>27.0</td>\n",
       "    </tr>\n",
       "    <tr>\n",
       "      <th>...</th>\n",
       "      <td>...</td>\n",
       "      <td>...</td>\n",
       "      <td>...</td>\n",
       "      <td>...</td>\n",
       "      <td>...</td>\n",
       "      <td>...</td>\n",
       "      <td>...</td>\n",
       "      <td>...</td>\n",
       "      <td>...</td>\n",
       "      <td>...</td>\n",
       "      <td>...</td>\n",
       "      <td>...</td>\n",
       "      <td>...</td>\n",
       "      <td>...</td>\n",
       "      <td>...</td>\n",
       "      <td>...</td>\n",
       "      <td>...</td>\n",
       "      <td>...</td>\n",
       "      <td>...</td>\n",
       "      <td>...</td>\n",
       "      <td>...</td>\n",
       "    </tr>\n",
       "    <tr>\n",
       "      <th>239672</th>\n",
       "      <td>1083142</td>\n",
       "      <td>2018-03-31</td>\n",
       "      <td>Louisiana</td>\n",
       "      <td>Rayne</td>\n",
       "      <td>North Riceland Road and Highway 90</td>\n",
       "      <td>0</td>\n",
       "      <td>0</td>\n",
       "      <td>http://www.gunviolencearchive.org/incident/108...</td>\n",
       "      <td>http://www.klfy.com/news/local/rayne-woman-cha...</td>\n",
       "      <td>False</td>\n",
       "      <td>...</td>\n",
       "      <td>0::25</td>\n",
       "      <td>0::Adult 18+</td>\n",
       "      <td>0::Female</td>\n",
       "      <td>0::Jhkeya Tezeno</td>\n",
       "      <td>NaN</td>\n",
       "      <td>0::Unharmed, Arrested</td>\n",
       "      <td>0::Subject-Suspect</td>\n",
       "      <td>http://www.klfy.com/news/local/rayne-woman-cha...</td>\n",
       "      <td>NaN</td>\n",
       "      <td>NaN</td>\n",
       "    </tr>\n",
       "    <tr>\n",
       "      <th>239673</th>\n",
       "      <td>1083139</td>\n",
       "      <td>2018-03-31</td>\n",
       "      <td>Louisiana</td>\n",
       "      <td>Natchitoches</td>\n",
       "      <td>247 Keyser Ave</td>\n",
       "      <td>1</td>\n",
       "      <td>0</td>\n",
       "      <td>http://www.gunviolencearchive.org/incident/108...</td>\n",
       "      <td>http://www.ksla.com/story/37854648/man-wanted-...</td>\n",
       "      <td>False</td>\n",
       "      <td>...</td>\n",
       "      <td>1::21</td>\n",
       "      <td>0::Adult 18+||1::Adult 18+</td>\n",
       "      <td>0::Male||1::Male</td>\n",
       "      <td>0::Jamal Haskett||1::Jaquarious Tyjuan Ardison</td>\n",
       "      <td>NaN</td>\n",
       "      <td>0::Killed||1::Unharmed, Arrested</td>\n",
       "      <td>0::Victim||1::Subject-Suspect</td>\n",
       "      <td>http://www.ksla.com/story/37854648/man-wanted-...</td>\n",
       "      <td>23.0</td>\n",
       "      <td>31.0</td>\n",
       "    </tr>\n",
       "    <tr>\n",
       "      <th>239674</th>\n",
       "      <td>1083151</td>\n",
       "      <td>2018-03-31</td>\n",
       "      <td>Louisiana</td>\n",
       "      <td>Gretna</td>\n",
       "      <td>1300 block of Cook Street</td>\n",
       "      <td>0</td>\n",
       "      <td>1</td>\n",
       "      <td>http://www.gunviolencearchive.org/incident/108...</td>\n",
       "      <td>http://www.nola.com/crime/index.ssf/2018/04/sh...</td>\n",
       "      <td>False</td>\n",
       "      <td>...</td>\n",
       "      <td>0::21</td>\n",
       "      <td>0::Adult 18+</td>\n",
       "      <td>0::Male</td>\n",
       "      <td>NaN</td>\n",
       "      <td>NaN</td>\n",
       "      <td>0::Injured</td>\n",
       "      <td>0::Victim</td>\n",
       "      <td>http://www.nola.com/crime/index.ssf/2018/04/sh...</td>\n",
       "      <td>85.0</td>\n",
       "      <td>7.0</td>\n",
       "    </tr>\n",
       "    <tr>\n",
       "      <th>239675</th>\n",
       "      <td>1082514</td>\n",
       "      <td>2018-03-31</td>\n",
       "      <td>Texas</td>\n",
       "      <td>Houston</td>\n",
       "      <td>12630 Ashford Point Dr</td>\n",
       "      <td>1</td>\n",
       "      <td>0</td>\n",
       "      <td>http://www.gunviolencearchive.org/incident/108...</td>\n",
       "      <td>https://www.chron.com/news/houston-texas/houst...</td>\n",
       "      <td>False</td>\n",
       "      <td>...</td>\n",
       "      <td>0::42</td>\n",
       "      <td>0::Adult 18+</td>\n",
       "      <td>0::Male</td>\n",
       "      <td>0::Leroy Ellis</td>\n",
       "      <td>NaN</td>\n",
       "      <td>0::Killed</td>\n",
       "      <td>0::Victim</td>\n",
       "      <td>http://www.khou.com/article/news/hpd-investiga...</td>\n",
       "      <td>149.0</td>\n",
       "      <td>17.0</td>\n",
       "    </tr>\n",
       "    <tr>\n",
       "      <th>239676</th>\n",
       "      <td>1081940</td>\n",
       "      <td>2018-03-31</td>\n",
       "      <td>Maine</td>\n",
       "      <td>Norridgewock</td>\n",
       "      <td>434 Skowhegan Rd</td>\n",
       "      <td>2</td>\n",
       "      <td>0</td>\n",
       "      <td>http://www.gunviolencearchive.org/incident/108...</td>\n",
       "      <td>https://www.centralmaine.com/2018/03/31/police...</td>\n",
       "      <td>False</td>\n",
       "      <td>...</td>\n",
       "      <td>0::58||1::62</td>\n",
       "      <td>0::Adult 18+||1::Adult 18+</td>\n",
       "      <td>0::Female||1::Male</td>\n",
       "      <td>0::Marie Lancaster Hale||1::William Hale</td>\n",
       "      <td>1::Significant others - current or former</td>\n",
       "      <td>0::Killed||1::Killed</td>\n",
       "      <td>0::Victim||1::Subject-Suspect</td>\n",
       "      <td>https://www.centralmaine.com/2018/03/31/police...</td>\n",
       "      <td>111.0</td>\n",
       "      <td>3.0</td>\n",
       "    </tr>\n",
       "  </tbody>\n",
       "</table>\n",
       "<p>239677 rows × 29 columns</p>\n",
       "</div>"
      ],
      "text/plain": [
       "        incident_id        date           state city_or_county  \\\n",
       "0            461105  2013-01-01    Pennsylvania     Mckeesport   \n",
       "1            460726  2013-01-01      California      Hawthorne   \n",
       "2            478855  2013-01-01            Ohio         Lorain   \n",
       "3            478925  2013-01-05        Colorado         Aurora   \n",
       "4            478959  2013-01-07  North Carolina     Greensboro   \n",
       "...             ...         ...             ...            ...   \n",
       "239672      1083142  2018-03-31       Louisiana          Rayne   \n",
       "239673      1083139  2018-03-31       Louisiana   Natchitoches   \n",
       "239674      1083151  2018-03-31       Louisiana         Gretna   \n",
       "239675      1082514  2018-03-31           Texas        Houston   \n",
       "239676      1081940  2018-03-31           Maine   Norridgewock   \n",
       "\n",
       "                                          address  n_killed  n_injured  \\\n",
       "0       1506 Versailles Avenue and Coursin Street         0          4   \n",
       "1                    13500 block of Cerise Avenue         1          3   \n",
       "2                           1776 East 28th Street         1          3   \n",
       "3                16000 block of East Ithaca Place         4          0   \n",
       "4                       307 Mourning Dove Terrace         2          2   \n",
       "...                                           ...       ...        ...   \n",
       "239672         North Riceland Road and Highway 90         0          0   \n",
       "239673                             247 Keyser Ave         1          0   \n",
       "239674                  1300 block of Cook Street         0          1   \n",
       "239675                     12630 Ashford Point Dr         1          0   \n",
       "239676                           434 Skowhegan Rd         2          0   \n",
       "\n",
       "                                             incident_url  \\\n",
       "0       http://www.gunviolencearchive.org/incident/461105   \n",
       "1       http://www.gunviolencearchive.org/incident/460726   \n",
       "2       http://www.gunviolencearchive.org/incident/478855   \n",
       "3       http://www.gunviolencearchive.org/incident/478925   \n",
       "4       http://www.gunviolencearchive.org/incident/478959   \n",
       "...                                                   ...   \n",
       "239672  http://www.gunviolencearchive.org/incident/108...   \n",
       "239673  http://www.gunviolencearchive.org/incident/108...   \n",
       "239674  http://www.gunviolencearchive.org/incident/108...   \n",
       "239675  http://www.gunviolencearchive.org/incident/108...   \n",
       "239676  http://www.gunviolencearchive.org/incident/108...   \n",
       "\n",
       "                                               source_url  \\\n",
       "0       http://www.post-gazette.com/local/south/2013/0...   \n",
       "1       http://www.dailybulletin.com/article/zz/201301...   \n",
       "2       http://chronicle.northcoastnow.com/2013/02/14/...   \n",
       "3       http://www.dailydemocrat.com/20130106/aurora-s...   \n",
       "4       http://www.journalnow.com/news/local/article_d...   \n",
       "...                                                   ...   \n",
       "239672  http://www.klfy.com/news/local/rayne-woman-cha...   \n",
       "239673  http://www.ksla.com/story/37854648/man-wanted-...   \n",
       "239674  http://www.nola.com/crime/index.ssf/2018/04/sh...   \n",
       "239675  https://www.chron.com/news/houston-texas/houst...   \n",
       "239676  https://www.centralmaine.com/2018/03/31/police...   \n",
       "\n",
       "        incident_url_fields_missing  ...                    participant_age  \\\n",
       "0                             False  ...                              0::20   \n",
       "1                             False  ...                              0::20   \n",
       "2                             False  ...  0::25||1::31||2::33||3::34||4::33   \n",
       "3                             False  ...         0::29||1::33||2::56||3::33   \n",
       "4                             False  ...         0::18||1::46||2::14||3::47   \n",
       "...                             ...  ...                                ...   \n",
       "239672                        False  ...                              0::25   \n",
       "239673                        False  ...                              1::21   \n",
       "239674                        False  ...                              0::21   \n",
       "239675                        False  ...                              0::42   \n",
       "239676                        False  ...                       0::58||1::62   \n",
       "\n",
       "                                    participant_age_group  \\\n",
       "0       0::Adult 18+||1::Adult 18+||2::Adult 18+||3::A...   \n",
       "1       0::Adult 18+||1::Adult 18+||2::Adult 18+||3::A...   \n",
       "2       0::Adult 18+||1::Adult 18+||2::Adult 18+||3::A...   \n",
       "3       0::Adult 18+||1::Adult 18+||2::Adult 18+||3::A...   \n",
       "4       0::Adult 18+||1::Adult 18+||2::Teen 12-17||3::...   \n",
       "...                                                   ...   \n",
       "239672                                       0::Adult 18+   \n",
       "239673                         0::Adult 18+||1::Adult 18+   \n",
       "239674                                       0::Adult 18+   \n",
       "239675                                       0::Adult 18+   \n",
       "239676                         0::Adult 18+||1::Adult 18+   \n",
       "\n",
       "                                 participant_gender  \\\n",
       "0              0::Male||1::Male||3::Male||4::Female   \n",
       "1                                           0::Male   \n",
       "2       0::Male||1::Male||2::Male||3::Male||4::Male   \n",
       "3              0::Female||1::Male||2::Male||3::Male   \n",
       "4            0::Female||1::Male||2::Male||3::Female   \n",
       "...                                             ...   \n",
       "239672                                    0::Female   \n",
       "239673                             0::Male||1::Male   \n",
       "239674                                      0::Male   \n",
       "239675                                      0::Male   \n",
       "239676                           0::Female||1::Male   \n",
       "\n",
       "                                         participant_name  \\\n",
       "0                                          0::Julian Sims   \n",
       "1                                       0::Bernard Gillis   \n",
       "2       0::Damien Bell||1::Desmen Noble||2::Herman Sea...   \n",
       "3       0::Stacie Philbrook||1::Christopher Ratliffe||...   \n",
       "4       0::Danielle Imani Jameison||1::Maurice Eugene ...   \n",
       "...                                                   ...   \n",
       "239672                                   0::Jhkeya Tezeno   \n",
       "239673     0::Jamal Haskett||1::Jaquarious Tyjuan Ardison   \n",
       "239674                                                NaN   \n",
       "239675                                     0::Leroy Ellis   \n",
       "239676           0::Marie Lancaster Hale||1::William Hale   \n",
       "\n",
       "                         participant_relationship  \\\n",
       "0                                             NaN   \n",
       "1                                             NaN   \n",
       "2                                             NaN   \n",
       "3                                             NaN   \n",
       "4                                       3::Family   \n",
       "...                                           ...   \n",
       "239672                                        NaN   \n",
       "239673                                        NaN   \n",
       "239674                                        NaN   \n",
       "239675                                        NaN   \n",
       "239676  1::Significant others - current or former   \n",
       "\n",
       "                                       participant_status  \\\n",
       "0       0::Arrested||1::Injured||2::Injured||3::Injure...   \n",
       "1           0::Killed||1::Injured||2::Injured||3::Injured   \n",
       "2       0::Injured, Unharmed, Arrested||1::Unharmed, A...   \n",
       "3              0::Killed||1::Killed||2::Killed||3::Killed   \n",
       "4            0::Injured||1::Injured||2::Killed||3::Killed   \n",
       "...                                                   ...   \n",
       "239672                              0::Unharmed, Arrested   \n",
       "239673                   0::Killed||1::Unharmed, Arrested   \n",
       "239674                                         0::Injured   \n",
       "239675                                          0::Killed   \n",
       "239676                               0::Killed||1::Killed   \n",
       "\n",
       "                                         participant_type  \\\n",
       "0       0::Victim||1::Victim||2::Victim||3::Victim||4:...   \n",
       "1       0::Victim||1::Victim||2::Victim||3::Victim||4:...   \n",
       "2       0::Subject-Suspect||1::Subject-Suspect||2::Vic...   \n",
       "3       0::Victim||1::Victim||2::Victim||3::Subject-Su...   \n",
       "4       0::Victim||1::Victim||2::Victim||3::Subject-Su...   \n",
       "...                                                   ...   \n",
       "239672                                 0::Subject-Suspect   \n",
       "239673                      0::Victim||1::Subject-Suspect   \n",
       "239674                                          0::Victim   \n",
       "239675                                          0::Victim   \n",
       "239676                      0::Victim||1::Subject-Suspect   \n",
       "\n",
       "                                                  sources  \\\n",
       "0       http://pittsburgh.cbslocal.com/2013/01/01/4-pe...   \n",
       "1       http://losangeles.cbslocal.com/2013/01/01/man-...   \n",
       "2       http://www.morningjournal.com/general-news/201...   \n",
       "3       http://denver.cbslocal.com/2013/01/06/officer-...   \n",
       "4       http://myfox8.com/2013/01/08/update-mother-sho...   \n",
       "...                                                   ...   \n",
       "239672  http://www.klfy.com/news/local/rayne-woman-cha...   \n",
       "239673  http://www.ksla.com/story/37854648/man-wanted-...   \n",
       "239674  http://www.nola.com/crime/index.ssf/2018/04/sh...   \n",
       "239675  http://www.khou.com/article/news/hpd-investiga...   \n",
       "239676  https://www.centralmaine.com/2018/03/31/police...   \n",
       "\n",
       "       state_house_district state_senate_district  \n",
       "0                       NaN                   NaN  \n",
       "1                      62.0                  35.0  \n",
       "2                      56.0                  13.0  \n",
       "3                      40.0                  28.0  \n",
       "4                      62.0                  27.0  \n",
       "...                     ...                   ...  \n",
       "239672                  NaN                   NaN  \n",
       "239673                 23.0                  31.0  \n",
       "239674                 85.0                   7.0  \n",
       "239675                149.0                  17.0  \n",
       "239676                111.0                   3.0  \n",
       "\n",
       "[239677 rows x 29 columns]"
      ]
     },
     "execution_count": 2,
     "metadata": {},
     "output_type": "execute_result"
    }
   ],
   "source": [
    "df"
   ]
  },
  {
   "cell_type": "markdown",
   "metadata": {},
   "source": [
    "# Numero médio de pessoas feridas \n"
   ]
  },
  {
   "cell_type": "code",
   "execution_count": 3,
   "metadata": {},
   "outputs": [
    {
     "data": {
      "text/plain": [
       "n_injured    0.494007\n",
       "dtype: float64"
      ]
     },
     "execution_count": 3,
     "metadata": {},
     "output_type": "execute_result"
    }
   ],
   "source": [
    "mediaNumeroFeridos = pd.DataFrame(df,columns=['n_injured'])\n",
    "mediaNumeroFeridos.mean()"
   ]
  },
  {
   "cell_type": "markdown",
   "metadata": {},
   "source": [
    "# 5 estados com mais crimes a mão armada"
   ]
  },
  {
   "cell_type": "code",
   "execution_count": 4,
   "metadata": {},
   "outputs": [
    {
     "data": {
      "text/plain": [
       "<AxesSubplot:>"
      ]
     },
     "execution_count": 4,
     "metadata": {},
     "output_type": "execute_result"
    },
    {
     "data": {
      "image/png": "[encoded data removed]",
      "text/plain": [
       "<Figure size 432x288 with 1 Axes>"
      ]
     },
     "metadata": {
      "needs_background": "light"
     },
     "output_type": "display_data"
    }
   ],
   "source": [
    "df[\"state\"].value_counts().head().plot.bar()"
   ]
  },
  {
   "cell_type": "markdown",
   "metadata": {},
   "source": [
    "<h1 align='center'> Análise de procedência das armas que aparecem nos crimes</h1>"
   ]
  },
  {
   "cell_type": "markdown",
   "metadata": {},
   "source": [
    "1. Tratando dados agrupados do Dataframe nas colunas que definem o tipo de arma e sua procedência:\n"
   ]
  },
  {
   "cell_type": "code",
   "execution_count": 5,
   "metadata": {},
   "outputs": [],
   "source": [
    "df_top_armas = pd.DataFrame(df, columns=['gun_stolen','gun_type']).dropna()\n",
    "\n",
    "df_top_armas = pd.DataFrame(df_top_armas.apply(lambda x: x.str.split('\\|\\|').explode()), columns=['gun_stolen','gun_type'])\n",
    "df_top_armas = pd.DataFrame(df_top_armas.apply(lambda x: x.str.split('::').explode()).reset_index(), columns=['gun_stolen','gun_type'])\n",
    "df_top_armas = pd.DataFrame(df_top_armas.apply(lambda x: x.str.split('\\|').explode()),columns=['gun_stolen','gun_type'])\n",
    "df_top_armas = pd.DataFrame(df_top_armas.apply(lambda x: x.str.split(':').explode()).reset_index(), columns=['gun_stolen','gun_type'])\n"
   ]
  },
  {
   "cell_type": "markdown",
   "metadata": {},
   "source": [
    "2. Agrupando top 10 armas que são de posse de quem está portando durante a ocorrência"
   ]
  },
  {
   "cell_type": "code",
   "execution_count": 6,
   "metadata": {},
   "outputs": [
    {
     "data": {
      "text/plain": [
       "<AxesSubplot:>"
      ]
     },
     "execution_count": 6,
     "metadata": {},
     "output_type": "execute_result"
    },
    {
     "data": {
      "image/png": "[encoded data removed]",
      "text/plain": [
       "<Figure size 432x288 with 1 Axes>"
      ]
     },
     "metadata": {
      "needs_background": "light"
     },
     "output_type": "display_data"
    }
   ],
   "source": [
    "top10_armas_nao_roubadas = df_top_armas[(df_top_armas.gun_type.index % 2 != 0) \n",
    "                          & (df_top_armas.gun_type != 'Unknown')\n",
    "                          & (df_top_armas.gun_stolen == 'Not-stolen')].gun_type.value_counts().head(10)\n",
    "top10_armas_nao_roubadas.plot.bar()"
   ]
  },
  {
   "cell_type": "markdown",
   "metadata": {},
   "source": [
    "3. Agrupando top 10 armas que **não** são de posse de quem está a portando durante a ocorrência"
   ]
  },
  {
   "cell_type": "code",
   "execution_count": 7,
   "metadata": {},
   "outputs": [
    {
     "data": {
      "text/plain": [
       "<AxesSubplot:>"
      ]
     },
     "execution_count": 7,
     "metadata": {},
     "output_type": "execute_result"
    },
    {
     "data": {
      "image/png": "[encoded data removed]",
      "text/plain": [
       "<Figure size 432x288 with 1 Axes>"
      ]
     },
     "metadata": {
      "needs_background": "light"
     },
     "output_type": "display_data"
    }
   ],
   "source": [
    "top10_armas_roubadas =  df_top_armas[(df_top_armas.gun_type.index % 2 != 0) \n",
    "                                    &(df_top_armas.gun_type != 'Unknown') \n",
    "                                    &(df_top_armas.gun_stolen == 'Stolen') ].gun_type.value_counts().head(10)\n",
    "\n",
    "top10_armas_roubadas.plot.bar()"
   ]
  },
  {
   "cell_type": "markdown",
   "metadata": {},
   "source": [
    "4. Agrupando top 10 armas que **não se sabe a procedência**"
   ]
  },
  {
   "cell_type": "code",
   "execution_count": 8,
   "metadata": {
    "scrolled": false
   },
   "outputs": [
    {
     "data": {
      "text/plain": [
       "<AxesSubplot:>"
      ]
     },
     "execution_count": 8,
     "metadata": {},
     "output_type": "execute_result"
    },
    {
     "data": {
      "image/png": "[encoded data removed]",
      "text/plain": [
       "<Figure size 432x288 with 1 Axes>"
      ]
     },
     "metadata": {
      "needs_background": "light"
     },
     "output_type": "display_data"
    }
   ],
   "source": [
    "top10_armas_sem_proc = df_top_armas[(df_top_armas.gun_type.index % 2 != 0) \n",
    "                          & (df_top_armas.gun_type != 'Unknown')\n",
    "                          & (df_top_armas.gun_stolen == 'Unknown')].gun_type.value_counts().head(10)\n",
    "\n",
    "top10_armas_sem_proc.plot.bar()"
   ]
  },
  {
   "cell_type": "markdown",
   "metadata": {},
   "source": [
    "5. Visualização que relaciona a arma com maiores índices nos tópicos 2 a 4"
   ]
  },
  {
   "cell_type": "code",
   "execution_count": 9,
   "metadata": {},
   "outputs": [
    {
     "data": {
      "image/png": "[encoded data removed]",
      "text/plain": [
       "<Figure size 432x288 with 1 Axes>"
      ]
     },
     "metadata": {},
     "output_type": "display_data"
    }
   ],
   "source": [
    "values = []\n",
    "values.append(int(top10_armas_roubadas['Handgun']))\n",
    "values.append(int(top10_armas_nao_roubadas['Handgun']))\n",
    "values.append(int(top10_armas_sem_proc['Handgun']))\n",
    "\n",
    "labels = 'Pistolas Roubadas','Pistolas com o Proprietário','Pistolas sem procedencia'\n",
    "\n",
    "explode = (0.4, 0,0)\n",
    "\n",
    "fig1, ax1 = plt.subplots()\n",
    "ax1.pie(values, explode=explode, labels=labels, autopct='%1.1f%%',\n",
    "        shadow=True, startangle=90)\n",
    "ax1.axis('equal')  # Equal aspect ratio ensures that pie is drawn as a circle.\n",
    "\n",
    "plt.show()"
   ]
  },
  {
   "cell_type": "markdown",
   "metadata": {},
   "source": [
    "<h2 align='center'>Conclusões com os dados analisados:</h2>\n",
    "É visível que a pistola(Handgun) é o tipo de arma mais comum durante crimes, porém, somente em menos de 20% das ocorrências se sabe a procedência das armas, o que não nos dá um poder de conclusões concretas sobre o a influência do porte livre de armas sobre os crimes, mas ainda sim, existe um indicio de que a influência é mínima visto que a quantidade de crimes com armas roubadas é mais que 10 vezes à quantidade de crimes com armas nas mãos de seus proprietários."
   ]
  },
  {
   "cell_type": "markdown",
   "metadata": {},
   "source": [
    "- - -"
   ]
  },
  {
   "cell_type": "markdown",
   "metadata": {},
   "source": [
    "<h1 align='center'>Locais públicos com maior incidência de crimes</h1>\n"
   ]
  },
  {
   "cell_type": "markdown",
   "metadata": {},
   "source": [
    "Nosso dataframe contra com 82% de dados nulos (acho melhor tirar essa porra aqui)"
   ]
  },
  {
   "cell_type": "code",
   "execution_count": 10,
   "metadata": {},
   "outputs": [
    {
     "data": {
      "text/html": [
       "<div>\n",
       "<style scoped>\n",
       "    .dataframe tbody tr th:only-of-type {\n",
       "        vertical-align: middle;\n",
       "    }\n",
       "\n",
       "    .dataframe tbody tr th {\n",
       "        vertical-align: top;\n",
       "    }\n",
       "\n",
       "    .dataframe thead th {\n",
       "        text-align: right;\n",
       "    }\n",
       "</style>\n",
       "<table border=\"1\" class=\"dataframe\">\n",
       "  <thead>\n",
       "    <tr style=\"text-align: right;\">\n",
       "      <th></th>\n",
       "      <th>location_description</th>\n",
       "    </tr>\n",
       "  </thead>\n",
       "  <tbody>\n",
       "    <tr>\n",
       "      <th>Austin</th>\n",
       "      <td>240</td>\n",
       "    </tr>\n",
       "    <tr>\n",
       "      <th>Walmart</th>\n",
       "      <td>232</td>\n",
       "    </tr>\n",
       "    <tr>\n",
       "      <th>7-Eleven</th>\n",
       "      <td>166</td>\n",
       "    </tr>\n",
       "    <tr>\n",
       "      <th>Motel 6</th>\n",
       "      <td>152</td>\n",
       "    </tr>\n",
       "    <tr>\n",
       "      <th>McDonald's</th>\n",
       "      <td>150</td>\n",
       "    </tr>\n",
       "    <tr>\n",
       "      <th>Dallas/Ft Worth Intl Airport (DFW)</th>\n",
       "      <td>132</td>\n",
       "    </tr>\n",
       "    <tr>\n",
       "      <th>WalMart</th>\n",
       "      <td>119</td>\n",
       "    </tr>\n",
       "    <tr>\n",
       "      <th>Dollar General</th>\n",
       "      <td>107</td>\n",
       "    </tr>\n",
       "    <tr>\n",
       "      <th>Shell</th>\n",
       "      <td>103</td>\n",
       "    </tr>\n",
       "    <tr>\n",
       "      <th>Lawndale</th>\n",
       "      <td>103</td>\n",
       "    </tr>\n",
       "  </tbody>\n",
       "</table>\n",
       "</div>"
      ],
      "text/plain": [
       "                                    location_description\n",
       "Austin                                               240\n",
       "Walmart                                              232\n",
       "7-Eleven                                             166\n",
       "Motel 6                                              152\n",
       "McDonald's                                           150\n",
       "Dallas/Ft Worth Intl Airport (DFW)                   132\n",
       "WalMart                                              119\n",
       "Dollar General                                       107\n",
       "Shell                                                103\n",
       "Lawndale                                             103"
      ]
     },
     "execution_count": 10,
     "metadata": {},
     "output_type": "execute_result"
    }
   ],
   "source": [
    "locaisPublicos = pd.DataFrame(pd.DataFrame(df,columns=['location_description']).dropna().location_description.value_counts().head(10))\n",
    "locaisPublicos"
   ]
  },
  {
   "cell_type": "code",
   "execution_count": 11,
   "metadata": {},
   "outputs": [
    {
     "name": "stderr",
     "output_type": "stream",
     "text": [
      "/home/ubiratan/.local/lib/python3.8/site-packages/pandas/plotting/_matplotlib/core.py:1192: UserWarning: FixedFormatter should only be used together with FixedLocator\n",
      "  ax.set_xticklabels(xticklabels)\n"
     ]
    },
    {
     "data": {
      "image/png": "[encoded data removed]",
      "text/plain": [
       "<Figure size 432x288 with 1 Axes>"
      ]
     },
     "metadata": {
      "needs_background": "light"
     },
     "output_type": "display_data"
    }
   ],
   "source": [
    "locaisPublicos.plot(marker='o').grid()"
   ]
  },
  {
   "cell_type": "markdown",
   "metadata": {},
   "source": [
    "---"
   ]
  },
  {
   "cell_type": "markdown",
   "metadata": {},
   "source": [
    "# Número de criminosos com +18 vs. -18"
   ]
  },
  {
   "cell_type": "code",
   "execution_count": 12,
   "metadata": {
    "scrolled": true
   },
   "outputs": [],
   "source": [
    "participants = pd.DataFrame(df,columns=['participant_age_group','participant_type']).dropna()"
   ]
  },
  {
   "cell_type": "code",
   "execution_count": 13,
   "metadata": {},
   "outputs": [],
   "source": [
    "\n",
    "participantsGroupDistintos = []\n",
    "for i in range(participants.shape[0]):\n",
    "    ageGroupPorLinha = participants.values[i][0]\n",
    "    typePorLinha = participants.values[i][1]\n",
    "    \n",
    "    ageGroupSeparados = ageGroupPorLinha.split('||')\n",
    "    typeSeparados = typePorLinha.split('||')\n",
    "    \n",
    "    for j in range(len(ageGroupSeparados)):\n",
    "        if(\"Victim\" not in typeSeparados[j]):\n",
    "            if(\"::\" in ageGroupSeparados[j]):\n",
    "                participantsGroupDistintos.append(ageGroupSeparados[j].split('::')[1])\n"
   ]
  },
  {
   "cell_type": "code",
   "execution_count": 14,
   "metadata": {},
   "outputs": [
    {
     "data": {
      "text/html": [
       "<div>\n",
       "<style scoped>\n",
       "    .dataframe tbody tr th:only-of-type {\n",
       "        vertical-align: middle;\n",
       "    }\n",
       "\n",
       "    .dataframe tbody tr th {\n",
       "        vertical-align: top;\n",
       "    }\n",
       "\n",
       "    .dataframe thead th {\n",
       "        text-align: right;\n",
       "    }\n",
       "</style>\n",
       "<table border=\"1\" class=\"dataframe\">\n",
       "  <thead>\n",
       "    <tr style=\"text-align: right;\">\n",
       "      <th></th>\n",
       "      <th>Quantidade</th>\n",
       "    </tr>\n",
       "  </thead>\n",
       "  <tbody>\n",
       "    <tr>\n",
       "      <th>Adultos</th>\n",
       "      <td>144462</td>\n",
       "    </tr>\n",
       "    <tr>\n",
       "      <th>Menores</th>\n",
       "      <td>13063</td>\n",
       "    </tr>\n",
       "  </tbody>\n",
       "</table>\n",
       "</div>"
      ],
      "text/plain": [
       "         Quantidade\n",
       "Adultos      144462\n",
       "Menores       13063"
      ]
     },
     "execution_count": 14,
     "metadata": {},
     "output_type": "execute_result"
    }
   ],
   "source": [
    "participantsDF = pd.DataFrame(participantsGroupDistintos,columns=['Faixa_Etaria'])\n",
    "\n",
    "adultos = participantsDF[participantsDF.Faixa_Etaria == 'Adult 18+'].Faixa_Etaria.value_counts().sum()\n",
    "menores = participantsDF[participantsDF.Faixa_Etaria != 'Adult 18+'].Faixa_Etaria.value_counts().sum()\n",
    "faixaEtaria = [adultos,menores]\n",
    "pd.DataFrame(faixaEtaria,columns=['Quantidade'], index=['Adultos','Menores'])\n",
    "#Procurar um gráfico que melhore a visu"
   ]
  },
  {
   "cell_type": "code",
   "execution_count": 15,
   "metadata": {},
   "outputs": [
    {
     "data": {
      "text/plain": [
       "<AxesSubplot:ylabel='Faixa_Etaria'>"
      ]
     },
     "execution_count": 15,
     "metadata": {},
     "output_type": "execute_result"
    },
    {
     "data": {
      "image/png": "[encoded data removed]",
      "text/plain": [
       "<Figure size 432x288 with 1 Axes>"
      ]
     },
     "metadata": {},
     "output_type": "display_data"
    }
   ],
   "source": [
    "participantsDF[participantsDF.Faixa_Etaria != 'Adult 18+'].Faixa_Etaria.value_counts().plot.pie()"
   ]
  },
  {
   "cell_type": "markdown",
   "metadata": {},
   "source": [
    "Pelos dados onde houveram registros das idades dos participantes, a análise nos mostra que o número de participações de menores nos crime abordados é bastante pequeno, cerca de 0,0829% em relação ao total. \n",
    "\n",
    "O que nos poderia dar a ideia de que a maior idade cumpre seu papel nos EUA, além disso, vale ressaltar que tratando **o grupo de menores como um todo** e olhando para os que responderiam em julgado por seu crime na região, temos uma quantidade representativa de adolescentes em uma faixa etária que vai de 12-17 anos. O que nos leva a considerar que, se por acaso, a idade em que tais indivíduos tivessem que responder por suas ações fosse maior, uma quantidade considerável dos crimes de menores sairiam impunes.\n",
    "\n",
    "###### Obs: Adolescentes nos EUA a partir dos 12 anos já devem responder a seus crimes, tendo como consequência a reclusão até que completem a maior idade."
   ]
  },
  {
   "cell_type": "markdown",
   "metadata": {},
   "source": [
    "- - - "
   ]
  },
  {
   "cell_type": "markdown",
   "metadata": {},
   "source": [
    "<h1 align='center'> Datas Comemorativas </h1>"
   ]
  },
  {
   "cell_type": "markdown",
   "metadata": {},
   "source": [
    "## Dia 4 de Julho (Dia da Independência norte-americana)"
   ]
  },
  {
   "cell_type": "code",
   "execution_count": 16,
   "metadata": {},
   "outputs": [],
   "source": [
    "dates = pd.DataFrame(df,columns=['date','n_killed','n_injured']).dropna()"
   ]
  },
  {
   "cell_type": "markdown",
   "metadata": {},
   "source": [
    "### Para o ano de 2014"
   ]
  },
  {
   "cell_type": "code",
   "execution_count": 17,
   "metadata": {},
   "outputs": [
    {
     "name": "stdout",
     "output_type": "stream",
     "text": [
      "Número de incidências: 192\n",
      "Numéro de mortos: 48\n",
      "Número de feridos: 92\n"
     ]
    }
   ],
   "source": [
    "ano2014 = dates[dates.date == '2014-07-04']\n",
    "print(\"Número de incidências: %d\" %ano2014.shape[0])\n",
    "print(\"Numéro de mortos: %d\" %ano2014.n_killed.sum())\n",
    "print(\"Número de feridos: %d\" %ano2014.n_injured.sum())"
   ]
  },
  {
   "cell_type": "markdown",
   "metadata": {},
   "source": [
    "### Para o ano de 2015"
   ]
  },
  {
   "cell_type": "code",
   "execution_count": 18,
   "metadata": {},
   "outputs": [
    {
     "name": "stdout",
     "output_type": "stream",
     "text": [
      "Número de incidências: 211\n",
      "Numéro de mortos: 60\n",
      "Número de feridos: 142\n"
     ]
    }
   ],
   "source": [
    "ano2015 = dates[dates.date == '2015-07-04']\n",
    "print(\"Número de incidências: %d\" %ano2015.shape[0])\n",
    "print(\"Numéro de mortos: %d\" %ano2015.n_killed.sum())\n",
    "print(\"Número de feridos: %d\" %ano2015.n_injured.sum())"
   ]
  },
  {
   "cell_type": "markdown",
   "metadata": {},
   "source": [
    "### Para o ano de 2016"
   ]
  },
  {
   "cell_type": "code",
   "execution_count": 19,
   "metadata": {},
   "outputs": [
    {
     "name": "stdout",
     "output_type": "stream",
     "text": [
      "Número de incidências: 224\n",
      "Numéro de mortos: 53\n",
      "Número de feridos: 163\n"
     ]
    }
   ],
   "source": [
    "ano2016 = dates[dates.date == '2016-07-04']\n",
    "print(\"Número de incidências: %d\" %ano2016.shape[0])\n",
    "print(\"Numéro de mortos: %d\" %ano2016.n_killed.sum())\n",
    "print(\"Número de feridos: %d\" %ano2016.n_injured.sum())"
   ]
  },
  {
   "cell_type": "markdown",
   "metadata": {},
   "source": [
    "### Para o ano de 2017"
   ]
  },
  {
   "cell_type": "code",
   "execution_count": 20,
   "metadata": {},
   "outputs": [
    {
     "name": "stdout",
     "output_type": "stream",
     "text": [
      "Número de incidências: 248\n",
      "Numéro de mortos: 62\n",
      "Número de feridos: 146\n"
     ]
    }
   ],
   "source": [
    "ano2017 = dates[dates.date == '2017-07-04']\n",
    "print(\"Número de incidências: %d\" %ano2017.shape[0])\n",
    "print(\"Numéro de mortos: %d\" %ano2017.n_killed.sum())\n",
    "print(\"Número de feridos: %d\" %ano2017.n_injured.sum())"
   ]
  },
  {
   "cell_type": "markdown",
   "metadata": {},
   "source": [
    "## Dia 5 de Julho (Dia posterior ao dia da independência)"
   ]
  },
  {
   "cell_type": "code",
   "execution_count": 21,
   "metadata": {},
   "outputs": [
    {
     "data": {
      "text/plain": [
       "<AxesSubplot:>"
      ]
     },
     "execution_count": 21,
     "metadata": {},
     "output_type": "execute_result"
    },
    {
     "data": {
      "image/png": "[encoded data removed]",
      "text/plain": [
       "<Figure size 432x288 with 1 Axes>"
      ]
     },
     "metadata": {
      "needs_background": "light"
     },
     "output_type": "display_data"
    }
   ],
   "source": [
    "afterIDAno2014 = dates [dates.date == '2014-07-05']\n",
    "afterIDAno2015 = dates[dates.date == '2015-07-05']\n",
    "afterIDAno2016 = dates[dates.date == '2016-07-05']\n",
    "afterIDAno2017 = dates[dates.date == '2017-07-05']\n",
    "diaCinco = [afterIDAno2014.shape[0],afterIDAno2015.shape[0],afterIDAno2016.shape[0],afterIDAno2017.shape[0]]\n",
    "pd.DataFrame(diaCinco,columns=['Número de Incidências'], index=['2014','2015','2016','2017']).plot.bar()"
   ]
  },
  {
   "cell_type": "markdown",
   "metadata": {},
   "source": [
    "Utilizados para esta análise os dados relativos aos anos de 2014 à 2017. Como vimos, existe um número elevado de incidentes relacionados aos dias 4 e 5 de julho, onde temos um importante feriado para o país, tornando-as uma das datas mais perigosas do ano."
   ]
  }
 ],
 "metadata": {
  "kernelspec": {
   "display_name": "Python 3",
   "language": "python",
   "name": "python3"
  },
  "language_info": {
   "codemirror_mode": {
    "name": "ipython",
    "version": 3
   },
   "file_extension": ".py",
   "mimetype": "text/x-python",
   "name": "python",
   "nbconvert_exporter": "python",
   "pygments_lexer": "ipython3",
   "version": "3.8.3"
  }
 },
 "nbformat": 4,
 "nbformat_minor": 4
}
