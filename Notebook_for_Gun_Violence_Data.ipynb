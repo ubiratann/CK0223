{
 "cells": [
  {
   "cell_type": "code",
   "execution_count": 1,
   "metadata": {},
   "outputs": [],
   "source": [
    "import numpy as np\n",
    "import pandas as pd\n",
    "df = pd.read_csv('gun-violence-data_01-2013_03-2018.csv')"
   ]
  },
  {
   "cell_type": "code",
   "execution_count": 43,
   "metadata": {
    "scrolled": false
   },
   "outputs": [
    {
     "data": {
      "text/plain": [
       "Index(['incident_id', 'date', 'state', 'city_or_county', 'address', 'n_killed',\n",
       "       'n_injured', 'incident_url', 'source_url',\n",
       "       'incident_url_fields_missing', 'congressional_district', 'gun_stolen',\n",
       "       'gun_type', 'incident_characteristics', 'latitude',\n",
       "       'location_description', 'longitude', 'n_guns_involved', 'notes',\n",
       "       'participant_age', 'participant_age_group', 'participant_gender',\n",
       "       'participant_name', 'participant_relationship', 'participant_status',\n",
       "       'participant_type', 'sources', 'state_house_district',\n",
       "       'state_senate_district'],\n",
       "      dtype='object')"
      ]
     },
     "execution_count": 43,
     "metadata": {},
     "output_type": "execute_result"
    }
   ],
   "source": [
    "df.columns"
   ]
  },
  {
   "cell_type": "markdown",
   "metadata": {},
   "source": [
    "# Numero de Pessoas Feridas \n"
   ]
  },
  {
   "cell_type": "code",
   "execution_count": 4,
   "metadata": {},
   "outputs": [
    {
     "data": {
      "text/plain": [
       "n_injured    0.494007\n",
       "dtype: float64"
      ]
     },
     "execution_count": 4,
     "metadata": {},
     "output_type": "execute_result"
    }
   ],
   "source": [
    "mediaNumeroFeridos = pd.DataFrame(df,columns=['n_injured'])\n",
    "mediaNumeroFeridos.mean()"
   ]
  },
  {
   "cell_type": "code",
   "execution_count": 5,
   "metadata": {},
   "outputs": [
    {
     "data": {
      "text/plain": [
       "0.4940065171042695"
      ]
     },
     "execution_count": 5,
     "metadata": {},
     "output_type": "execute_result"
    }
   ],
   "source": [
    "df.n_injured.mean()"
   ]
  },
  {
   "cell_type": "markdown",
   "metadata": {},
   "source": [
    "# 5 estados com mais crimes a mão armada"
   ]
  },
  {
   "cell_type": "code",
   "execution_count": 2,
   "metadata": {},
   "outputs": [
    {
     "data": {
      "text/plain": [
       "<AxesSubplot:>"
      ]
     },
     "execution_count": 2,
     "metadata": {},
     "output_type": "execute_result"
    },
    {
     "data": {
      "image/png": "[encoded data removed]",
      "text/plain": [
       "<Figure size 432x288 with 1 Axes>"
      ]
     },
     "metadata": {
      "needs_background": "light"
     },
     "output_type": "display_data"
    }
   ],
   "source": [
    "df[\"state\"].value_counts().head().plot.bar()"
   ]
  },
  {
   "cell_type": "markdown",
   "metadata": {},
   "source": [
    "# Top 10 armas (\"descobertas\") mais utilizadas"
   ]
  },
  {
   "cell_type": "code",
   "execution_count": 3,
   "metadata": {},
   "outputs": [
    {
     "data": {
      "text/plain": [
       "<AxesSubplot:ylabel='gun_type'>"
      ]
     },
     "execution_count": 3,
     "metadata": {},
     "output_type": "execute_result"
    },
    {
     "data": {
      "image/png": "[encoded data removed]",
      "text/plain": [
       "<Figure size 432x288 with 1 Axes>"
      ]
     },
     "metadata": {},
     "output_type": "display_data"
    }
   ],
   "source": [
    "\n",
    "#retirando missing data\n",
    "b = pd.DataFrame(df.gun_type.dropna())\n",
    "\n",
    "#tratando dados das linhas\n",
    "d = pd.DataFrame(b.apply(lambda x: x.str.split('\\|\\|').explode()), columns=['gun_type'])\n",
    "d = pd.DataFrame(d.apply(lambda x: x.str.split('::').explode()).reset_index().gun_type)\n",
    "d = pd.DataFrame(d.apply(lambda x: x.str.split('\\|').explode()))\n",
    "d = pd.DataFrame(d.apply(lambda x: x.str.split(':').explode()).reset_index().gun_type)\n",
    "\n",
    "#apos o split apenas as linhas impares tem os nomes das armas\n",
    "d = pd.DataFrame(d[d[\"gun_type\"].index % 2 != 0].gun_type)\n",
    "\n",
    "#plotando grafico de pizza\n",
    "d[d.gun_type != 'Unknown'].gun_type.value_counts().head(10).plot.pie()\n"
   ]
  },
  {
   "cell_type": "markdown",
   "metadata": {},
   "source": [
    "# Locais públicos com maior incidência de crimes\n",
    "### Dentre dos que foram relatados o local"
   ]
  },
  {
   "cell_type": "code",
   "execution_count": 21,
   "metadata": {},
   "outputs": [
    {
     "data": {
      "text/html": [
       "<div>\n",
       "<style scoped>\n",
       "    .dataframe tbody tr th:only-of-type {\n",
       "        vertical-align: middle;\n",
       "    }\n",
       "\n",
       "    .dataframe tbody tr th {\n",
       "        vertical-align: top;\n",
       "    }\n",
       "\n",
       "    .dataframe thead th {\n",
       "        text-align: right;\n",
       "    }\n",
       "</style>\n",
       "<table border=\"1\" class=\"dataframe\">\n",
       "  <thead>\n",
       "    <tr style=\"text-align: right;\">\n",
       "      <th></th>\n",
       "      <th>location_description</th>\n",
       "    </tr>\n",
       "  </thead>\n",
       "  <tbody>\n",
       "    <tr>\n",
       "      <th>Austin</th>\n",
       "      <td>240</td>\n",
       "    </tr>\n",
       "    <tr>\n",
       "      <th>Walmart</th>\n",
       "      <td>232</td>\n",
       "    </tr>\n",
       "    <tr>\n",
       "      <th>7-Eleven</th>\n",
       "      <td>166</td>\n",
       "    </tr>\n",
       "    <tr>\n",
       "      <th>Motel 6</th>\n",
       "      <td>152</td>\n",
       "    </tr>\n",
       "    <tr>\n",
       "      <th>McDonald's</th>\n",
       "      <td>150</td>\n",
       "    </tr>\n",
       "    <tr>\n",
       "      <th>Dallas/Ft Worth Intl Airport (DFW)</th>\n",
       "      <td>132</td>\n",
       "    </tr>\n",
       "    <tr>\n",
       "      <th>WalMart</th>\n",
       "      <td>119</td>\n",
       "    </tr>\n",
       "    <tr>\n",
       "      <th>Dollar General</th>\n",
       "      <td>107</td>\n",
       "    </tr>\n",
       "    <tr>\n",
       "      <th>Lawndale</th>\n",
       "      <td>103</td>\n",
       "    </tr>\n",
       "    <tr>\n",
       "      <th>Shell</th>\n",
       "      <td>103</td>\n",
       "    </tr>\n",
       "  </tbody>\n",
       "</table>\n",
       "</div>"
      ],
      "text/plain": [
       "                                    location_description\n",
       "Austin                                               240\n",
       "Walmart                                              232\n",
       "7-Eleven                                             166\n",
       "Motel 6                                              152\n",
       "McDonald's                                           150\n",
       "Dallas/Ft Worth Intl Airport (DFW)                   132\n",
       "WalMart                                              119\n",
       "Dollar General                                       107\n",
       "Lawndale                                             103\n",
       "Shell                                                103"
      ]
     },
     "execution_count": 21,
     "metadata": {},
     "output_type": "execute_result"
    }
   ],
   "source": [
    "locaisPublicos = pd.DataFrame(pd.DataFrame(df,columns=['location_description']).dropna().location_description.value_counts().head(10))\n",
    "locaisPublicos"
   ]
  },
  {
   "cell_type": "code",
   "execution_count": 22,
   "metadata": {},
   "outputs": [
    {
     "name": "stderr",
     "output_type": "stream",
     "text": [
      "/home/ubiratan/.local/lib/python3.8/site-packages/pandas/plotting/_matplotlib/core.py:1192: UserWarning: FixedFormatter should only be used together with FixedLocator\n",
      "  ax.set_xticklabels(xticklabels)\n"
     ]
    },
    {
     "data": {
      "image/png": "[encoded data removed]",
      "text/plain": [
       "<Figure size 432x288 with 1 Axes>"
      ]
     },
     "metadata": {
      "needs_background": "light"
     },
     "output_type": "display_data"
    }
   ],
   "source": [
    "locaisPublicos.plot(marker='o').grid()"
   ]
  },
  {
   "cell_type": "markdown",
   "metadata": {},
   "source": [
    "# Número de criminosos com +18 vs. -18"
   ]
  },
  {
   "cell_type": "code",
   "execution_count": 38,
   "metadata": {
    "scrolled": true
   },
   "outputs": [],
   "source": [
    "participants = pd.DataFrame(df,columns=['participant_age_group','participant_type']).dropna()\n"
   ]
  },
  {
   "cell_type": "code",
   "execution_count": 39,
   "metadata": {},
   "outputs": [],
   "source": [
    "\n",
    "participantsGroupDistintos = []\n",
    "for i in range(participants.shape[0]):\n",
    "    ageGroupPorLinha = participants.values[i][0]\n",
    "    typePorLinha = participants.values[i][1]\n",
    "    \n",
    "    ageGroupSeparados = ageGroupPorLinha.split('||')\n",
    "    typeSeparados = typePorLinha.split('||')\n",
    "    \n",
    "    for j in range(len(ageGroupSeparados)):\n",
    "        if(\"Victim\" not in typeSeparados[j]):\n",
    "            if(\"::\" in ageGroupSeparados[j]):\n",
    "                participantsGroupDistintos.append(ageGroupSeparados[j].split('::')[1])\n"
   ]
  },
  {
   "cell_type": "code",
   "execution_count": 40,
   "metadata": {},
   "outputs": [
    {
     "data": {
      "text/html": [
       "<div>\n",
       "<style scoped>\n",
       "    .dataframe tbody tr th:only-of-type {\n",
       "        vertical-align: middle;\n",
       "    }\n",
       "\n",
       "    .dataframe tbody tr th {\n",
       "        vertical-align: top;\n",
       "    }\n",
       "\n",
       "    .dataframe thead th {\n",
       "        text-align: right;\n",
       "    }\n",
       "</style>\n",
       "<table border=\"1\" class=\"dataframe\">\n",
       "  <thead>\n",
       "    <tr style=\"text-align: right;\">\n",
       "      <th></th>\n",
       "      <th>Quantidade</th>\n",
       "    </tr>\n",
       "  </thead>\n",
       "  <tbody>\n",
       "    <tr>\n",
       "      <th>Adultos</th>\n",
       "      <td>144462</td>\n",
       "    </tr>\n",
       "    <tr>\n",
       "      <th>Menores</th>\n",
       "      <td>13063</td>\n",
       "    </tr>\n",
       "  </tbody>\n",
       "</table>\n",
       "</div>"
      ],
      "text/plain": [
       "         Quantidade\n",
       "Adultos      144462\n",
       "Menores       13063"
      ]
     },
     "execution_count": 40,
     "metadata": {},
     "output_type": "execute_result"
    }
   ],
   "source": [
    "participantsDF = pd.DataFrame(participantsGroupDistintos,columns=['Faixa_Etaria'])\n",
    "\n",
    "adultos = participantsDF[participantsDF.Faixa_Etaria == 'Adult 18+'].Faixa_Etaria.value_counts().sum()\n",
    "menores = participantsDF[participantsDF.Faixa_Etaria != 'Adult 18+'].Faixa_Etaria.value_counts().sum()\n",
    "faixaEtaria = [adultos,menores]\n",
    "pd.DataFrame(faixaEtaria,columns=['Quantidade'], index=['Adultos','Menores'])\n",
    "#Procurar um gráfico que melhore a visu"
   ]
  },
  {
   "cell_type": "code",
   "execution_count": null,
   "metadata": {},
   "outputs": [],
   "source": []
  }
 ],
 "metadata": {
  "kernelspec": {
   "display_name": "Python 3",
   "language": "python",
   "name": "python3"
  },
  "language_info": {
   "codemirror_mode": {
    "name": "ipython",
    "version": 3
   },
   "file_extension": ".py",
   "mimetype": "text/x-python",
   "name": "python",
   "nbconvert_exporter": "python",
   "pygments_lexer": "ipython3",
   "version": "3.8.3"
  }
 },
 "nbformat": 4,
 "nbformat_minor": 4
}
