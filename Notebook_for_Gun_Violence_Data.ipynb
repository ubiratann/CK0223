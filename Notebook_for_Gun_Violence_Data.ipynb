{
 "cells": [
  {
   "cell_type": "markdown",
   "metadata": {},
   "source": [
    "## Relatório sobre violencia armada nos Estados Unidos\n",
    "\n",
    "### Esse relatório contém análises feitas a partir de um dataset público, disponível no kaggle.\n",
    "\n",
    "<h4 align='center'>Equipe:<br>Marcos Lúnciel<br>Ítalo Ramillys<br>Ubiratan Júnior<br></h4>\n",
    "    "
   ]
  },
  {
   "cell_type": "markdown",
   "metadata": {},
   "source": [
    "<h1 align='center'> Carregando bibliotecas e DataSet</h1>"
   ]
  },
  {
   "cell_type": "code",
   "execution_count": 1,
   "metadata": {},
   "outputs": [],
   "source": [
    "\n",
    "\n",
    "%matplotlib inline\n",
    "import numpy as np\n",
    "import pandas as pd\n",
    "import matplotlib.pyplot as plt\n",
    "\n",
    "df = pd.read_csv('gun-violence-data_01-2013_03-2018.csv')"
   ]
  },
  {
   "cell_type": "code",
   "execution_count": 2,
   "metadata": {},
   "outputs": [
    {
     "data": {
      "text/html": [
       "<div>\n",
       "<style scoped>\n",
       "    .dataframe tbody tr th:only-of-type {\n",
       "        vertical-align: middle;\n",
       "    }\n",
       "\n",
       "    .dataframe tbody tr th {\n",
       "        vertical-align: top;\n",
       "    }\n",
       "\n",
       "    .dataframe thead th {\n",
       "        text-align: right;\n",
       "    }\n",
       "</style>\n",
       "<table border=\"1\" class=\"dataframe\">\n",
       "  <thead>\n",
       "    <tr style=\"text-align: right;\">\n",
       "      <th></th>\n",
       "      <th>incident_id</th>\n",
       "      <th>date</th>\n",
       "      <th>state</th>\n",
       "      <th>city_or_county</th>\n",
       "      <th>address</th>\n",
       "      <th>n_killed</th>\n",
       "      <th>n_injured</th>\n",
       "      <th>incident_url</th>\n",
       "      <th>source_url</th>\n",
       "      <th>incident_url_fields_missing</th>\n",
       "      <th>...</th>\n",
       "      <th>participant_age</th>\n",
       "      <th>participant_age_group</th>\n",
       "      <th>participant_gender</th>\n",
       "      <th>participant_name</th>\n",
       "      <th>participant_relationship</th>\n",
       "      <th>participant_status</th>\n",
       "      <th>participant_type</th>\n",
       "      <th>sources</th>\n",
       "      <th>state_house_district</th>\n",
       "      <th>state_senate_district</th>\n",
       "    </tr>\n",
       "  </thead>\n",
       "  <tbody>\n",
       "    <tr>\n",
       "      <th>0</th>\n",
       "      <td>461105</td>\n",
       "      <td>2013-01-01</td>\n",
       "      <td>Pennsylvania</td>\n",
       "      <td>Mckeesport</td>\n",
       "      <td>1506 Versailles Avenue and Coursin Street</td>\n",
       "      <td>0</td>\n",
       "      <td>4</td>\n",
       "      <td>http://www.gunviolencearchive.org/incident/461105</td>\n",
       "      <td>http://www.post-gazette.com/local/south/2013/0...</td>\n",
       "      <td>False</td>\n",
       "      <td>...</td>\n",
       "      <td>0::20</td>\n",
       "      <td>0::Adult 18+||1::Adult 18+||2::Adult 18+||3::A...</td>\n",
       "      <td>0::Male||1::Male||3::Male||4::Female</td>\n",
       "      <td>0::Julian Sims</td>\n",
       "      <td>NaN</td>\n",
       "      <td>0::Arrested||1::Injured||2::Injured||3::Injure...</td>\n",
       "      <td>0::Victim||1::Victim||2::Victim||3::Victim||4:...</td>\n",
       "      <td>http://pittsburgh.cbslocal.com/2013/01/01/4-pe...</td>\n",
       "      <td>NaN</td>\n",
       "      <td>NaN</td>\n",
       "    </tr>\n",
       "    <tr>\n",
       "      <th>1</th>\n",
       "      <td>460726</td>\n",
       "      <td>2013-01-01</td>\n",
       "      <td>California</td>\n",
       "      <td>Hawthorne</td>\n",
       "      <td>13500 block of Cerise Avenue</td>\n",
       "      <td>1</td>\n",
       "      <td>3</td>\n",
       "      <td>http://www.gunviolencearchive.org/incident/460726</td>\n",
       "      <td>http://www.dailybulletin.com/article/zz/201301...</td>\n",
       "      <td>False</td>\n",
       "      <td>...</td>\n",
       "      <td>0::20</td>\n",
       "      <td>0::Adult 18+||1::Adult 18+||2::Adult 18+||3::A...</td>\n",
       "      <td>0::Male</td>\n",
       "      <td>0::Bernard Gillis</td>\n",
       "      <td>NaN</td>\n",
       "      <td>0::Killed||1::Injured||2::Injured||3::Injured</td>\n",
       "      <td>0::Victim||1::Victim||2::Victim||3::Victim||4:...</td>\n",
       "      <td>http://losangeles.cbslocal.com/2013/01/01/man-...</td>\n",
       "      <td>62.0</td>\n",
       "      <td>35.0</td>\n",
       "    </tr>\n",
       "    <tr>\n",
       "      <th>2</th>\n",
       "      <td>478855</td>\n",
       "      <td>2013-01-01</td>\n",
       "      <td>Ohio</td>\n",
       "      <td>Lorain</td>\n",
       "      <td>1776 East 28th Street</td>\n",
       "      <td>1</td>\n",
       "      <td>3</td>\n",
       "      <td>http://www.gunviolencearchive.org/incident/478855</td>\n",
       "      <td>http://chronicle.northcoastnow.com/2013/02/14/...</td>\n",
       "      <td>False</td>\n",
       "      <td>...</td>\n",
       "      <td>0::25||1::31||2::33||3::34||4::33</td>\n",
       "      <td>0::Adult 18+||1::Adult 18+||2::Adult 18+||3::A...</td>\n",
       "      <td>0::Male||1::Male||2::Male||3::Male||4::Male</td>\n",
       "      <td>0::Damien Bell||1::Desmen Noble||2::Herman Sea...</td>\n",
       "      <td>NaN</td>\n",
       "      <td>0::Injured, Unharmed, Arrested||1::Unharmed, A...</td>\n",
       "      <td>0::Subject-Suspect||1::Subject-Suspect||2::Vic...</td>\n",
       "      <td>http://www.morningjournal.com/general-news/201...</td>\n",
       "      <td>56.0</td>\n",
       "      <td>13.0</td>\n",
       "    </tr>\n",
       "    <tr>\n",
       "      <th>3</th>\n",
       "      <td>478925</td>\n",
       "      <td>2013-01-05</td>\n",
       "      <td>Colorado</td>\n",
       "      <td>Aurora</td>\n",
       "      <td>16000 block of East Ithaca Place</td>\n",
       "      <td>4</td>\n",
       "      <td>0</td>\n",
       "      <td>http://www.gunviolencearchive.org/incident/478925</td>\n",
       "      <td>http://www.dailydemocrat.com/20130106/aurora-s...</td>\n",
       "      <td>False</td>\n",
       "      <td>...</td>\n",
       "      <td>0::29||1::33||2::56||3::33</td>\n",
       "      <td>0::Adult 18+||1::Adult 18+||2::Adult 18+||3::A...</td>\n",
       "      <td>0::Female||1::Male||2::Male||3::Male</td>\n",
       "      <td>0::Stacie Philbrook||1::Christopher Ratliffe||...</td>\n",
       "      <td>NaN</td>\n",
       "      <td>0::Killed||1::Killed||2::Killed||3::Killed</td>\n",
       "      <td>0::Victim||1::Victim||2::Victim||3::Subject-Su...</td>\n",
       "      <td>http://denver.cbslocal.com/2013/01/06/officer-...</td>\n",
       "      <td>40.0</td>\n",
       "      <td>28.0</td>\n",
       "    </tr>\n",
       "    <tr>\n",
       "      <th>4</th>\n",
       "      <td>478959</td>\n",
       "      <td>2013-01-07</td>\n",
       "      <td>North Carolina</td>\n",
       "      <td>Greensboro</td>\n",
       "      <td>307 Mourning Dove Terrace</td>\n",
       "      <td>2</td>\n",
       "      <td>2</td>\n",
       "      <td>http://www.gunviolencearchive.org/incident/478959</td>\n",
       "      <td>http://www.journalnow.com/news/local/article_d...</td>\n",
       "      <td>False</td>\n",
       "      <td>...</td>\n",
       "      <td>0::18||1::46||2::14||3::47</td>\n",
       "      <td>0::Adult 18+||1::Adult 18+||2::Teen 12-17||3::...</td>\n",
       "      <td>0::Female||1::Male||2::Male||3::Female</td>\n",
       "      <td>0::Danielle Imani Jameison||1::Maurice Eugene ...</td>\n",
       "      <td>3::Family</td>\n",
       "      <td>0::Injured||1::Injured||2::Killed||3::Killed</td>\n",
       "      <td>0::Victim||1::Victim||2::Victim||3::Subject-Su...</td>\n",
       "      <td>http://myfox8.com/2013/01/08/update-mother-sho...</td>\n",
       "      <td>62.0</td>\n",
       "      <td>27.0</td>\n",
       "    </tr>\n",
       "    <tr>\n",
       "      <th>...</th>\n",
       "      <td>...</td>\n",
       "      <td>...</td>\n",
       "      <td>...</td>\n",
       "      <td>...</td>\n",
       "      <td>...</td>\n",
       "      <td>...</td>\n",
       "      <td>...</td>\n",
       "      <td>...</td>\n",
       "      <td>...</td>\n",
       "      <td>...</td>\n",
       "      <td>...</td>\n",
       "      <td>...</td>\n",
       "      <td>...</td>\n",
       "      <td>...</td>\n",
       "      <td>...</td>\n",
       "      <td>...</td>\n",
       "      <td>...</td>\n",
       "      <td>...</td>\n",
       "      <td>...</td>\n",
       "      <td>...</td>\n",
       "      <td>...</td>\n",
       "    </tr>\n",
       "    <tr>\n",
       "      <th>239672</th>\n",
       "      <td>1083142</td>\n",
       "      <td>2018-03-31</td>\n",
       "      <td>Louisiana</td>\n",
       "      <td>Rayne</td>\n",
       "      <td>North Riceland Road and Highway 90</td>\n",
       "      <td>0</td>\n",
       "      <td>0</td>\n",
       "      <td>http://www.gunviolencearchive.org/incident/108...</td>\n",
       "      <td>http://www.klfy.com/news/local/rayne-woman-cha...</td>\n",
       "      <td>False</td>\n",
       "      <td>...</td>\n",
       "      <td>0::25</td>\n",
       "      <td>0::Adult 18+</td>\n",
       "      <td>0::Female</td>\n",
       "      <td>0::Jhkeya Tezeno</td>\n",
       "      <td>NaN</td>\n",
       "      <td>0::Unharmed, Arrested</td>\n",
       "      <td>0::Subject-Suspect</td>\n",
       "      <td>http://www.klfy.com/news/local/rayne-woman-cha...</td>\n",
       "      <td>NaN</td>\n",
       "      <td>NaN</td>\n",
       "    </tr>\n",
       "    <tr>\n",
       "      <th>239673</th>\n",
       "      <td>1083139</td>\n",
       "      <td>2018-03-31</td>\n",
       "      <td>Louisiana</td>\n",
       "      <td>Natchitoches</td>\n",
       "      <td>247 Keyser Ave</td>\n",
       "      <td>1</td>\n",
       "      <td>0</td>\n",
       "      <td>http://www.gunviolencearchive.org/incident/108...</td>\n",
       "      <td>http://www.ksla.com/story/37854648/man-wanted-...</td>\n",
       "      <td>False</td>\n",
       "      <td>...</td>\n",
       "      <td>1::21</td>\n",
       "      <td>0::Adult 18+||1::Adult 18+</td>\n",
       "      <td>0::Male||1::Male</td>\n",
       "      <td>0::Jamal Haskett||1::Jaquarious Tyjuan Ardison</td>\n",
       "      <td>NaN</td>\n",
       "      <td>0::Killed||1::Unharmed, Arrested</td>\n",
       "      <td>0::Victim||1::Subject-Suspect</td>\n",
       "      <td>http://www.ksla.com/story/37854648/man-wanted-...</td>\n",
       "      <td>23.0</td>\n",
       "      <td>31.0</td>\n",
       "    </tr>\n",
       "    <tr>\n",
       "      <th>239674</th>\n",
       "      <td>1083151</td>\n",
       "      <td>2018-03-31</td>\n",
       "      <td>Louisiana</td>\n",
       "      <td>Gretna</td>\n",
       "      <td>1300 block of Cook Street</td>\n",
       "      <td>0</td>\n",
       "      <td>1</td>\n",
       "      <td>http://www.gunviolencearchive.org/incident/108...</td>\n",
       "      <td>http://www.nola.com/crime/index.ssf/2018/04/sh...</td>\n",
       "      <td>False</td>\n",
       "      <td>...</td>\n",
       "      <td>0::21</td>\n",
       "      <td>0::Adult 18+</td>\n",
       "      <td>0::Male</td>\n",
       "      <td>NaN</td>\n",
       "      <td>NaN</td>\n",
       "      <td>0::Injured</td>\n",
       "      <td>0::Victim</td>\n",
       "      <td>http://www.nola.com/crime/index.ssf/2018/04/sh...</td>\n",
       "      <td>85.0</td>\n",
       "      <td>7.0</td>\n",
       "    </tr>\n",
       "    <tr>\n",
       "      <th>239675</th>\n",
       "      <td>1082514</td>\n",
       "      <td>2018-03-31</td>\n",
       "      <td>Texas</td>\n",
       "      <td>Houston</td>\n",
       "      <td>12630 Ashford Point Dr</td>\n",
       "      <td>1</td>\n",
       "      <td>0</td>\n",
       "      <td>http://www.gunviolencearchive.org/incident/108...</td>\n",
       "      <td>https://www.chron.com/news/houston-texas/houst...</td>\n",
       "      <td>False</td>\n",
       "      <td>...</td>\n",
       "      <td>0::42</td>\n",
       "      <td>0::Adult 18+</td>\n",
       "      <td>0::Male</td>\n",
       "      <td>0::Leroy Ellis</td>\n",
       "      <td>NaN</td>\n",
       "      <td>0::Killed</td>\n",
       "      <td>0::Victim</td>\n",
       "      <td>http://www.khou.com/article/news/hpd-investiga...</td>\n",
       "      <td>149.0</td>\n",
       "      <td>17.0</td>\n",
       "    </tr>\n",
       "    <tr>\n",
       "      <th>239676</th>\n",
       "      <td>1081940</td>\n",
       "      <td>2018-03-31</td>\n",
       "      <td>Maine</td>\n",
       "      <td>Norridgewock</td>\n",
       "      <td>434 Skowhegan Rd</td>\n",
       "      <td>2</td>\n",
       "      <td>0</td>\n",
       "      <td>http://www.gunviolencearchive.org/incident/108...</td>\n",
       "      <td>https://www.centralmaine.com/2018/03/31/police...</td>\n",
       "      <td>False</td>\n",
       "      <td>...</td>\n",
       "      <td>0::58||1::62</td>\n",
       "      <td>0::Adult 18+||1::Adult 18+</td>\n",
       "      <td>0::Female||1::Male</td>\n",
       "      <td>0::Marie Lancaster Hale||1::William Hale</td>\n",
       "      <td>1::Significant others - current or former</td>\n",
       "      <td>0::Killed||1::Killed</td>\n",
       "      <td>0::Victim||1::Subject-Suspect</td>\n",
       "      <td>https://www.centralmaine.com/2018/03/31/police...</td>\n",
       "      <td>111.0</td>\n",
       "      <td>3.0</td>\n",
       "    </tr>\n",
       "  </tbody>\n",
       "</table>\n",
       "<p>239677 rows × 29 columns</p>\n",
       "</div>"
      ],
      "text/plain": [
       "        incident_id        date           state city_or_county  \\\n",
       "0            461105  2013-01-01    Pennsylvania     Mckeesport   \n",
       "1            460726  2013-01-01      California      Hawthorne   \n",
       "2            478855  2013-01-01            Ohio         Lorain   \n",
       "3            478925  2013-01-05        Colorado         Aurora   \n",
       "4            478959  2013-01-07  North Carolina     Greensboro   \n",
       "...             ...         ...             ...            ...   \n",
       "239672      1083142  2018-03-31       Louisiana          Rayne   \n",
       "239673      1083139  2018-03-31       Louisiana   Natchitoches   \n",
       "239674      1083151  2018-03-31       Louisiana         Gretna   \n",
       "239675      1082514  2018-03-31           Texas        Houston   \n",
       "239676      1081940  2018-03-31           Maine   Norridgewock   \n",
       "\n",
       "                                          address  n_killed  n_injured  \\\n",
       "0       1506 Versailles Avenue and Coursin Street         0          4   \n",
       "1                    13500 block of Cerise Avenue         1          3   \n",
       "2                           1776 East 28th Street         1          3   \n",
       "3                16000 block of East Ithaca Place         4          0   \n",
       "4                       307 Mourning Dove Terrace         2          2   \n",
       "...                                           ...       ...        ...   \n",
       "239672         North Riceland Road and Highway 90         0          0   \n",
       "239673                             247 Keyser Ave         1          0   \n",
       "239674                  1300 block of Cook Street         0          1   \n",
       "239675                     12630 Ashford Point Dr         1          0   \n",
       "239676                           434 Skowhegan Rd         2          0   \n",
       "\n",
       "                                             incident_url  \\\n",
       "0       http://www.gunviolencearchive.org/incident/461105   \n",
       "1       http://www.gunviolencearchive.org/incident/460726   \n",
       "2       http://www.gunviolencearchive.org/incident/478855   \n",
       "3       http://www.gunviolencearchive.org/incident/478925   \n",
       "4       http://www.gunviolencearchive.org/incident/478959   \n",
       "...                                                   ...   \n",
       "239672  http://www.gunviolencearchive.org/incident/108...   \n",
       "239673  http://www.gunviolencearchive.org/incident/108...   \n",
       "239674  http://www.gunviolencearchive.org/incident/108...   \n",
       "239675  http://www.gunviolencearchive.org/incident/108...   \n",
       "239676  http://www.gunviolencearchive.org/incident/108...   \n",
       "\n",
       "                                               source_url  \\\n",
       "0       http://www.post-gazette.com/local/south/2013/0...   \n",
       "1       http://www.dailybulletin.com/article/zz/201301...   \n",
       "2       http://chronicle.northcoastnow.com/2013/02/14/...   \n",
       "3       http://www.dailydemocrat.com/20130106/aurora-s...   \n",
       "4       http://www.journalnow.com/news/local/article_d...   \n",
       "...                                                   ...   \n",
       "239672  http://www.klfy.com/news/local/rayne-woman-cha...   \n",
       "239673  http://www.ksla.com/story/37854648/man-wanted-...   \n",
       "239674  http://www.nola.com/crime/index.ssf/2018/04/sh...   \n",
       "239675  https://www.chron.com/news/houston-texas/houst...   \n",
       "239676  https://www.centralmaine.com/2018/03/31/police...   \n",
       "\n",
       "        incident_url_fields_missing  ...                    participant_age  \\\n",
       "0                             False  ...                              0::20   \n",
       "1                             False  ...                              0::20   \n",
       "2                             False  ...  0::25||1::31||2::33||3::34||4::33   \n",
       "3                             False  ...         0::29||1::33||2::56||3::33   \n",
       "4                             False  ...         0::18||1::46||2::14||3::47   \n",
       "...                             ...  ...                                ...   \n",
       "239672                        False  ...                              0::25   \n",
       "239673                        False  ...                              1::21   \n",
       "239674                        False  ...                              0::21   \n",
       "239675                        False  ...                              0::42   \n",
       "239676                        False  ...                       0::58||1::62   \n",
       "\n",
       "                                    participant_age_group  \\\n",
       "0       0::Adult 18+||1::Adult 18+||2::Adult 18+||3::A...   \n",
       "1       0::Adult 18+||1::Adult 18+||2::Adult 18+||3::A...   \n",
       "2       0::Adult 18+||1::Adult 18+||2::Adult 18+||3::A...   \n",
       "3       0::Adult 18+||1::Adult 18+||2::Adult 18+||3::A...   \n",
       "4       0::Adult 18+||1::Adult 18+||2::Teen 12-17||3::...   \n",
       "...                                                   ...   \n",
       "239672                                       0::Adult 18+   \n",
       "239673                         0::Adult 18+||1::Adult 18+   \n",
       "239674                                       0::Adult 18+   \n",
       "239675                                       0::Adult 18+   \n",
       "239676                         0::Adult 18+||1::Adult 18+   \n",
       "\n",
       "                                 participant_gender  \\\n",
       "0              0::Male||1::Male||3::Male||4::Female   \n",
       "1                                           0::Male   \n",
       "2       0::Male||1::Male||2::Male||3::Male||4::Male   \n",
       "3              0::Female||1::Male||2::Male||3::Male   \n",
       "4            0::Female||1::Male||2::Male||3::Female   \n",
       "...                                             ...   \n",
       "239672                                    0::Female   \n",
       "239673                             0::Male||1::Male   \n",
       "239674                                      0::Male   \n",
       "239675                                      0::Male   \n",
       "239676                           0::Female||1::Male   \n",
       "\n",
       "                                         participant_name  \\\n",
       "0                                          0::Julian Sims   \n",
       "1                                       0::Bernard Gillis   \n",
       "2       0::Damien Bell||1::Desmen Noble||2::Herman Sea...   \n",
       "3       0::Stacie Philbrook||1::Christopher Ratliffe||...   \n",
       "4       0::Danielle Imani Jameison||1::Maurice Eugene ...   \n",
       "...                                                   ...   \n",
       "239672                                   0::Jhkeya Tezeno   \n",
       "239673     0::Jamal Haskett||1::Jaquarious Tyjuan Ardison   \n",
       "239674                                                NaN   \n",
       "239675                                     0::Leroy Ellis   \n",
       "239676           0::Marie Lancaster Hale||1::William Hale   \n",
       "\n",
       "                         participant_relationship  \\\n",
       "0                                             NaN   \n",
       "1                                             NaN   \n",
       "2                                             NaN   \n",
       "3                                             NaN   \n",
       "4                                       3::Family   \n",
       "...                                           ...   \n",
       "239672                                        NaN   \n",
       "239673                                        NaN   \n",
       "239674                                        NaN   \n",
       "239675                                        NaN   \n",
       "239676  1::Significant others - current or former   \n",
       "\n",
       "                                       participant_status  \\\n",
       "0       0::Arrested||1::Injured||2::Injured||3::Injure...   \n",
       "1           0::Killed||1::Injured||2::Injured||3::Injured   \n",
       "2       0::Injured, Unharmed, Arrested||1::Unharmed, A...   \n",
       "3              0::Killed||1::Killed||2::Killed||3::Killed   \n",
       "4            0::Injured||1::Injured||2::Killed||3::Killed   \n",
       "...                                                   ...   \n",
       "239672                              0::Unharmed, Arrested   \n",
       "239673                   0::Killed||1::Unharmed, Arrested   \n",
       "239674                                         0::Injured   \n",
       "239675                                          0::Killed   \n",
       "239676                               0::Killed||1::Killed   \n",
       "\n",
       "                                         participant_type  \\\n",
       "0       0::Victim||1::Victim||2::Victim||3::Victim||4:...   \n",
       "1       0::Victim||1::Victim||2::Victim||3::Victim||4:...   \n",
       "2       0::Subject-Suspect||1::Subject-Suspect||2::Vic...   \n",
       "3       0::Victim||1::Victim||2::Victim||3::Subject-Su...   \n",
       "4       0::Victim||1::Victim||2::Victim||3::Subject-Su...   \n",
       "...                                                   ...   \n",
       "239672                                 0::Subject-Suspect   \n",
       "239673                      0::Victim||1::Subject-Suspect   \n",
       "239674                                          0::Victim   \n",
       "239675                                          0::Victim   \n",
       "239676                      0::Victim||1::Subject-Suspect   \n",
       "\n",
       "                                                  sources  \\\n",
       "0       http://pittsburgh.cbslocal.com/2013/01/01/4-pe...   \n",
       "1       http://losangeles.cbslocal.com/2013/01/01/man-...   \n",
       "2       http://www.morningjournal.com/general-news/201...   \n",
       "3       http://denver.cbslocal.com/2013/01/06/officer-...   \n",
       "4       http://myfox8.com/2013/01/08/update-mother-sho...   \n",
       "...                                                   ...   \n",
       "239672  http://www.klfy.com/news/local/rayne-woman-cha...   \n",
       "239673  http://www.ksla.com/story/37854648/man-wanted-...   \n",
       "239674  http://www.nola.com/crime/index.ssf/2018/04/sh...   \n",
       "239675  http://www.khou.com/article/news/hpd-investiga...   \n",
       "239676  https://www.centralmaine.com/2018/03/31/police...   \n",
       "\n",
       "       state_house_district state_senate_district  \n",
       "0                       NaN                   NaN  \n",
       "1                      62.0                  35.0  \n",
       "2                      56.0                  13.0  \n",
       "3                      40.0                  28.0  \n",
       "4                      62.0                  27.0  \n",
       "...                     ...                   ...  \n",
       "239672                  NaN                   NaN  \n",
       "239673                 23.0                  31.0  \n",
       "239674                 85.0                   7.0  \n",
       "239675                149.0                  17.0  \n",
       "239676                111.0                   3.0  \n",
       "\n",
       "[239677 rows x 29 columns]"
      ]
     },
     "execution_count": 2,
     "metadata": {},
     "output_type": "execute_result"
    }
   ],
   "source": [
    "df"
   ]
  },
  {
   "cell_type": "markdown",
   "metadata": {},
   "source": [
    "<h1 align='center'> Numero médio de pessoas feridas </h1>\n"
   ]
  },
  {
   "cell_type": "markdown",
   "metadata": {},
   "source": [
    "Dados importantes a serem considerados sobre os EUA:\n",
    "- 4,4% da população global \n",
    "- 42% das armas do mundo \n",
    "- 31% de tiroteios em todo o mundo\n",
    "\n",
    "Fonte: [ Visualização de dados produzida por Fernanda Bezerra](https://nandabezerran.github.io/DataVisualization/TrabalhoFinal/index.html)"
   ]
  },
  {
   "cell_type": "code",
   "execution_count": 3,
   "metadata": {},
   "outputs": [
    {
     "data": {
      "text/plain": [
       "n_injured    0.494007\n",
       "dtype: float64"
      ]
     },
     "execution_count": 3,
     "metadata": {},
     "output_type": "execute_result"
    }
   ],
   "source": [
    "mediaNumeroFeridos = pd.DataFrame(df,columns=['n_injured'])\n",
    "mediaNumeroFeridos.mean()"
   ]
  },
  {
   "cell_type": "markdown",
   "metadata": {},
   "source": [
    "<h1 align='center'> 5 estados com mais crimes a mão armada</h1>"
   ]
  },
  {
   "cell_type": "markdown",
   "metadata": {},
   "source": [
    "### Análise de Estados com mais crimes:\n",
    "- A Califórnia é o estado com mais ocorrências e mortes nos últimos anos. \n",
    "- Assim como Califórnia apresenta a maior quantidade de tiroteios ocorridos nos EUA até 2017, também é o segundo estado com maior ocorrência de crimes registrados entre 2013-2018 no site [Gun Violence Archive](http://www.gunviolencearchive.org.)\n",
    "    \n",
    "Fonte: [ Visualização de dados produzida por Fernanda Bezerra](https://nandabezerran.github.io/DataVisualization/TrabalhoFinal/index.html)"
   ]
  },
  {
   "cell_type": "markdown",
   "metadata": {},
   "source": [
    "### 1. Realizando contagem  e agrupando os estados com mais ocorrências de crimes no DataSet:"
   ]
  },
  {
   "cell_type": "code",
   "execution_count": 4,
   "metadata": {
    "scrolled": false
   },
   "outputs": [
    {
     "data": {
      "image/png": "[encoded data removed]",
      "text/plain": [
       "<Figure size 432x288 with 1 Axes>"
      ]
     },
     "metadata": {
      "needs_background": "light"
     },
     "output_type": "display_data"
    }
   ],
   "source": [
    "df[\"state\"].value_counts().head().plot.bar()\n",
    "plt.xlabel('Estados') \n",
    "plt.ylabel('Quantidade de Crimes') \n",
    "plt.title('Estados mais violentos') \n",
    "plt.show()"
   ]
  },
  {
   "cell_type": "markdown",
   "metadata": {},
   "source": [
    "<h2 align='center'>Panorama da situação dos estados unidos a partir dos dados analisados:</h2>\n",
    "\n",
    "Segundo o site [Neighborhood Scout](https://www.neighborhoodscout.com/ca/crime):\n",
    "\n",
    "- California possui +30 cidades consideradas \"Perigosas\" ou \"Muito perigosa\". \n",
    "- Em nosso dataset é possível perceber que California apresenta o segundo maior número de crimes registrados.\n",
    "\n",
    "Comparando os dois fatos acima é facil perceber a relação direta entre os dados. Em um estado como California que possui 482 cidades e +30 são \"Perigosa\" ou \"Muito Perigosa\" pode parecer um número baixo, mas se você considerar que nessas +30 estão as maiores ou mais famosas cidades dos EUA como Los Angeles, San Francisco, San Diego, San Jose esse número se torna muito preocupante. \n",
    "\n",
    "\n",
    "<ul>\n",
    "    \n",
    "<li>Taxa de criminalidade California(por 1.000 residentes)</li>\n",
    "<li>Crimes violentos: 4,47</li>\n",
    "<li>Crimes em propriedades(furto, roubo, incêndio criminoso, furtos em lojas e vandalismo): 23,80</li>\n",
    "<li>A chances de se torna uma vítima de crime violenta na California é de 1 em 224 crimes</li>\n",
    "\n",
    "</ul>\n",
    "   \n",
    "   \n",
    "*Diferentemente da maioria dos outros estados, a Califórnia não possui provisão em sua constituição estadual que garante explicitamente o direito individual de manter e portar armas. Armas de fogo semi-automática, rifles calibre 50 e pentes de munição de alta capacidade não podem ser vendidos no estado. Armas automáticas e escopetas são proibidas no estado a menos que o cidadão possua Dangerous Weapons Permit(um tipo de licença)*\n",
    "\n",
    "\n",
    "Em um estado com tantas restrições sobre as armas como a California ser considerado o segundo estado com maior quantidade de crimes é algo "
   ]
  },
  {
   "cell_type": "markdown",
   "metadata": {},
   "source": [
    "- - -"
   ]
  },
  {
   "cell_type": "markdown",
   "metadata": {},
   "source": [
    "<h1 align='center'> Análise de procedência das armas que aparecem nos crimes de todo o país</h1>\n",
    "\n",
    "A partir do panorama anterior, e dado que nos Estados Unidos o comércio de armas é legal em grande parte dos estados, é importante observar se o país sofre com tanta violência por conta dessa liberdade, ou se os crimes/incidentes ocorrem com armamento irregular."
   ]
  },
  {
   "cell_type": "markdown",
   "metadata": {},
   "source": [
    "### 1. Criando um recorte do DataFrame original e tratando seus dados.\n"
   ]
  },
  {
   "cell_type": "code",
   "execution_count": 5,
   "metadata": {},
   "outputs": [],
   "source": [
    "df_top_armas = pd.DataFrame(df, columns=['gun_stolen','gun_type']).dropna()\n",
    "\n",
    "df_top_armas = pd.DataFrame(df_top_armas.apply(lambda x: x.str.split('\\|\\|').explode()), columns=['gun_stolen','gun_type'])\n",
    "df_top_armas = pd.DataFrame(df_top_armas.apply(lambda x: x.str.split('::').explode()).reset_index(), columns=['gun_stolen','gun_type'])\n",
    "\n",
    "# redundancia usada para tratar dados com erro na sintaxe \n",
    "df_top_armas = pd.DataFrame(df_top_armas.apply(lambda x: x.str.split('\\|').explode()),columns=['gun_stolen','gun_type'])\n",
    "df_top_armas = pd.DataFrame(df_top_armas.apply(lambda x: x.str.split(':').explode()).reset_index(), columns=['gun_stolen','gun_type'])\n"
   ]
  },
  {
   "cell_type": "markdown",
   "metadata": {},
   "source": [
    "- No DataFrame, a seguinte stratégia é usada por padrão para agrupar participantes nos casos listados.  \n",
    "    - `||` Separam dados relacionados a participantes diferentes\n",
    "    - `::` Separam um número *n* atribuido a cada participante, que funciona como uma espécie de identificador que é único apenas naquela linha,  e o dado referente ao participante de número *n*.\n",
    "\n",
    "\n",
    "- A partir desse entendimento tratamos os dados usando funções `lambda` da seguinte forma:\n",
    "   \n",
    "   1. Usamos o método `split()` para quebrar o texto nos caracteres usados para separação no dataframe, gerando um array.\n",
    "      \n",
    "   2. Usamos o método `explode()` para fazer com que cada elemento do array se torne uma nova linha do dataframe.\n",
    "   \n",
    "   3. Usamos o método `reset_index()` para reatribuir índices únicos a cada linha do dataframe."
   ]
  },
  {
   "cell_type": "markdown",
   "metadata": {},
   "source": [
    "### 2. Agrupando top 10 armas que são de posse de quem está portando durante a ocorrência:\n",
    "    \n",
    "  - Devido à estratégia usada na célula passada, temos dados que informam sobre as armas apenas em linhas ímpares, as linhas pares são os numéros atribuidos aos dados. **(Essa regra também se aplica aos agrupamentos feitos nos próximos tópicos)**"
   ]
  },
  {
   "cell_type": "code",
   "execution_count": 6,
   "metadata": {},
   "outputs": [
    {
     "data": {
      "image/png": "[encoded data removed]",
      "text/plain": [
       "<Figure size 432x288 with 1 Axes>"
      ]
     },
     "metadata": {
      "needs_background": "light"
     },
     "output_type": "display_data"
    }
   ],
   "source": [
    "top10_armas_nao_roubadas = df_top_armas[(df_top_armas.gun_type.index % 2 != 0) \n",
    "                          & (df_top_armas.gun_type != 'Unknown')\n",
    "                          & (df_top_armas.gun_stolen == 'Not-stolen')].gun_type.value_counts().head(10)\n",
    "top10_armas_nao_roubadas.plot.bar()\n",
    "\n",
    "plt.xlabel('Nome da arma') \n",
    "plt.ylabel('Vezes usada') \n",
    "plt.title('Armas mais usadas') \n",
    "plt.show()"
   ]
  },
  {
   "cell_type": "markdown",
   "metadata": {},
   "source": [
    "### 3. Agrupando top 10 armas que **não** são de posse de quem está a portando durante a ocorrência:"
   ]
  },
  {
   "cell_type": "code",
   "execution_count": 7,
   "metadata": {},
   "outputs": [
    {
     "data": {
      "image/png": "[encoded data removed]",
      "text/plain": [
       "<Figure size 432x288 with 1 Axes>"
      ]
     },
     "metadata": {
      "needs_background": "light"
     },
     "output_type": "display_data"
    }
   ],
   "source": [
    "top10_armas_roubadas =  df_top_armas[(df_top_armas.gun_type.index % 2 != 0) \n",
    "                                    &(df_top_armas.gun_type != 'Unknown') \n",
    "                                    &(df_top_armas.gun_stolen == 'Stolen') ].gun_type.value_counts().head(10)\n",
    "\n",
    "top10_armas_roubadas.plot.bar()\n",
    "plt.xlabel('Nome da arma') \n",
    "plt.ylabel('Vezes usada') \n",
    "plt.title('Armas mais usadas') \n",
    "plt.show()"
   ]
  },
  {
   "cell_type": "markdown",
   "metadata": {},
   "source": [
    "### 4. Agrupando top 10 armas que **não se sabe a procedência**:"
   ]
  },
  {
   "cell_type": "code",
   "execution_count": 8,
   "metadata": {
    "scrolled": false
   },
   "outputs": [
    {
     "data": {
      "image/png": "[encoded data removed]",
      "text/plain": [
       "<Figure size 432x288 with 1 Axes>"
      ]
     },
     "metadata": {
      "needs_background": "light"
     },
     "output_type": "display_data"
    }
   ],
   "source": [
    "top10_armas_sem_proc = df_top_armas[(df_top_armas.gun_type.index % 2 != 0) \n",
    "                          & (df_top_armas.gun_type != 'Unknown')\n",
    "                          & (df_top_armas.gun_stolen == 'Unknown')].gun_type.value_counts().head(10)\n",
    "\n",
    "top10_armas_sem_proc.plot.bar()\n",
    "plt.xlabel('Nome da arma') \n",
    "plt.ylabel('Vezes usada') \n",
    "plt.title('Armas mais usadas') \n",
    "plt.show()"
   ]
  },
  {
   "cell_type": "markdown",
   "metadata": {},
   "source": [
    "### 5. Visualização que relaciona a arma com maiores índices nos tópicos 2 a 4:"
   ]
  },
  {
   "cell_type": "code",
   "execution_count": 9,
   "metadata": {},
   "outputs": [
    {
     "data": {
      "image/png": "[encoded data removed]",
      "text/plain": [
       "<Figure size 432x288 with 1 Axes>"
      ]
     },
     "metadata": {},
     "output_type": "display_data"
    }
   ],
   "source": [
    "values = []\n",
    "values.append(int(top10_armas_roubadas['Handgun']))\n",
    "values.append(int(top10_armas_nao_roubadas['Handgun']))\n",
    "values.append(int(top10_armas_sem_proc['Handgun']))\n",
    "\n",
    "labels = 'Pistolas Roubadas','Pistolas com o Proprietário','Pistolas com procedencia desconhecida'\n",
    "\n",
    "explode = (0.4, 0,0)\n",
    "\n",
    "fig1, ax1 = plt.subplots()\n",
    "ax1.pie(values, explode=explode, labels=labels, autopct='%1.1f%%',\n",
    "        shadow=True, startangle=90)\n",
    "ax1.axis('equal') \n",
    "\n",
    "plt.show()"
   ]
  },
  {
   "cell_type": "markdown",
   "metadata": {},
   "source": [
    "<h2 align='center'>Conclusões com os dados analisados:</h2>\n",
    "\n",
    "É visível que pistolas(Handgun) são o tipo de arma mais comum durante crimes, porém, somente em menos de 20% das ocorrências se sabe a procedência das armas, o que não nos dá um poder de conclusões concretas sobre o a influência do porte livre de armas sobre os acidentes/crimes, mas ainda sim, existe um indicio de que a influência é mínima visto que a quantidade de casos com armas roubadas é  10 vezes superior à quantidade de casos com armas nas mãos de seus proprietários."
   ]
  },
  {
   "cell_type": "markdown",
   "metadata": {},
   "source": [
    "- - -"
   ]
  },
  {
   "cell_type": "markdown",
   "metadata": {},
   "source": [
    "<h1 align='center'>Número de suspeitos com +18 vs. -18</h1>"
   ]
  },
  {
   "cell_type": "markdown",
   "metadata": {},
   "source": [
    "### 1. Criando recorte com as colunas que agrupam os participantes por *grupos de idade* e *tipo de participante*:\n",
    "        \n",
    "        1.1 Os grupos de idade são: Adult 18+, Teen 12-17, Child 0-11      \n",
    "        1.2 Os tipos de participante sao: Victim, Subject-suspect\n",
    "       \n",
    "        "
   ]
  },
  {
   "cell_type": "code",
   "execution_count": 10,
   "metadata": {
    "scrolled": true
   },
   "outputs": [],
   "source": [
    "participants = pd.DataFrame(df,columns=['participant_age_group','participant_type']).dropna()"
   ]
  },
  {
   "cell_type": "markdown",
   "metadata": {},
   "source": [
    "### 2. Fazendo contagem dos participantes que não são vítimas:"
   ]
  },
  {
   "cell_type": "code",
   "execution_count": 11,
   "metadata": {},
   "outputs": [],
   "source": [
    "\n",
    "participantsGroupDistintos = []\n",
    "for i in range(participants.shape[0]):\n",
    "    ageGroupPorLinha = participants.values[i][0]\n",
    "    typePorLinha = participants.values[i][1]\n",
    "    \n",
    "    ageGroupSeparados = ageGroupPorLinha.split('||')\n",
    "    typeSeparados = typePorLinha.split('||')\n",
    "    \n",
    "    for j in range(len(ageGroupSeparados)):\n",
    "        if(\"Victim\" not in typeSeparados[j]):\n",
    "            if(\"::\" in ageGroupSeparados[j]):\n",
    "                participantsGroupDistintos.append(ageGroupSeparados[j].split('::')[1])\n"
   ]
  },
  {
   "cell_type": "markdown",
   "metadata": {},
   "source": [
    " - Diferente da [Análise de procedência das armas](#-Análise-de-procedência-das-armas-que-aparecem-nos-crimes-de-todo-o-país), aqui o método `explode()` não pode ser usado para gerar novas colunas do nosso recorte, devido à algumas ocorrências de *missing data* em linhas da coluna `participante_type`, o que gerava quantidade diferente de entradas nas colunas. Então utilizamos uma estratégia básica de contagem com  base nos separadores padrão, que segue a mesma idéia da contagem feita anteriormente\n",
    "."
   ]
  },
  {
   "cell_type": "markdown",
   "metadata": {},
   "source": [
    "### 3. **Agrupando os participantes suspeitos  de realizar o crime, por faixa etária**:"
   ]
  },
  {
   "cell_type": "code",
   "execution_count": 12,
   "metadata": {
    "scrolled": true
   },
   "outputs": [
    {
     "data": {
      "text/html": [
       "<div>\n",
       "<style scoped>\n",
       "    .dataframe tbody tr th:only-of-type {\n",
       "        vertical-align: middle;\n",
       "    }\n",
       "\n",
       "    .dataframe tbody tr th {\n",
       "        vertical-align: top;\n",
       "    }\n",
       "\n",
       "    .dataframe thead th {\n",
       "        text-align: right;\n",
       "    }\n",
       "</style>\n",
       "<table border=\"1\" class=\"dataframe\">\n",
       "  <thead>\n",
       "    <tr style=\"text-align: right;\">\n",
       "      <th></th>\n",
       "      <th>Quantidade</th>\n",
       "    </tr>\n",
       "  </thead>\n",
       "  <tbody>\n",
       "    <tr>\n",
       "      <th>Adultos</th>\n",
       "      <td>144462</td>\n",
       "    </tr>\n",
       "    <tr>\n",
       "      <th>Menores</th>\n",
       "      <td>13063</td>\n",
       "    </tr>\n",
       "  </tbody>\n",
       "</table>\n",
       "</div>"
      ],
      "text/plain": [
       "         Quantidade\n",
       "Adultos      144462\n",
       "Menores       13063"
      ]
     },
     "execution_count": 12,
     "metadata": {},
     "output_type": "execute_result"
    }
   ],
   "source": [
    "participantsDF = pd.DataFrame(participantsGroupDistintos,columns=['Faixa_Etaria'])\n",
    "\n",
    "adultos = participantsDF[participantsDF.Faixa_Etaria == 'Adult 18+'].Faixa_Etaria.value_counts().sum()\n",
    "menores = participantsDF[participantsDF.Faixa_Etaria != 'Adult 18+'].Faixa_Etaria.value_counts().sum()\n",
    "faixaEtaria = [adultos,menores]\n",
    "pd.DataFrame(faixaEtaria,columns=['Quantidade'], index=['Adultos','Menores'])"
   ]
  },
  {
   "cell_type": "code",
   "execution_count": 13,
   "metadata": {},
   "outputs": [
    {
     "data": {
      "text/plain": [
       "<AxesSubplot:ylabel='Faixa_Etaria'>"
      ]
     },
     "execution_count": 13,
     "metadata": {},
     "output_type": "execute_result"
    },
    {
     "data": {
      "image/png": "[encoded data removed]",
      "text/plain": [
       "<Figure size 432x288 with 1 Axes>"
      ]
     },
     "metadata": {},
     "output_type": "display_data"
    }
   ],
   "source": [
    "participantsDF[participantsDF.Faixa_Etaria != 'Adult 18+'].Faixa_Etaria.value_counts().plot.pie()\n"
   ]
  },
  {
   "cell_type": "markdown",
   "metadata": {},
   "source": [
    "Pelos dados onde houveram registros das idades dos participantes, a análise nos mostra que o número de participações de menores nos crime abordados é bastante pequeno, cerca de 9.04% em relação ao total. \n",
    "\n",
    "O que nos poderia dar a ideia de que a maior idade cumpre seu papel nos EUA, além disso, vale ressaltar que tratando **o grupo de menores como um todo** e olhando para os que responderiam em julgado por seu crime na região, temos uma quantidade representativa de adolescentes em uma faixa etária que vai de 12-17 anos. O que nos leva a considerar que, se por acaso, a idade em que tais indivíduos tivessem que responder por suas ações fosse maior, uma quantidade considerável dos crimes de menores sairiam impunes.\n",
    "\n",
    "###### Obs: Na maioria dos estados do país, adolescentes com mais de 12 anos podem ser submetidos aos mesmos procedimentos dos adultos, inclusive com a imposição de pena de morte ou prisão perpétua. O país não ratificou a Convenção Internacional sobre os Direitos da Criança.\n",
    "\n",
    "Tonte: [Ministério Público do Paraná](https://crianca.mppr.mp.br/pagina-323.html)"
   ]
  },
  {
   "cell_type": "markdown",
   "metadata": {},
   "source": [
    "- - - "
   ]
  },
  {
   "cell_type": "markdown",
   "metadata": {},
   "source": [
    "<h1 align='center'> Analisando a violência em datas específicas ao longo dos anos </h1>"
   ]
  },
  {
   "cell_type": "markdown",
   "metadata": {},
   "source": [
    "###   Criando recorte do DataFrame\n",
    "Utilizaremos apenas resultados que ocorreram entre os anos de 2014 a 2017, pois o DataFrame não cobre os anos de 2013 e 2018 por completo."
   ]
  },
  {
   "cell_type": "code",
   "execution_count": 14,
   "metadata": {},
   "outputs": [],
   "source": [
    "dates = pd.DataFrame(df,columns=['date','n_killed','n_injured']).dropna()\n",
    "dates['date'] = pd.to_datetime(dates['date'])\n",
    "dates['year'] = dates['date'].dt.year\n",
    "dates = (dates[(dates.year > 2013) & (dates.year < 2018) ])\n"
   ]
  },
  {
   "cell_type": "markdown",
   "metadata": {},
   "source": [
    "Se listarmos os dias em que ocorrem mais violência veremos que o feriado de Ação de Graças e o Ano Novo, ambos do ano de 2017, aparecem como os 2 dias que mais tiveram ocorrências no periodo do recorte."
   ]
  },
  {
   "cell_type": "code",
   "execution_count": 15,
   "metadata": {},
   "outputs": [
    {
     "data": {
      "text/html": [
       "<div>\n",
       "<style scoped>\n",
       "    .dataframe tbody tr th:only-of-type {\n",
       "        vertical-align: middle;\n",
       "    }\n",
       "\n",
       "    .dataframe tbody tr th {\n",
       "        vertical-align: top;\n",
       "    }\n",
       "\n",
       "    .dataframe thead th {\n",
       "        text-align: right;\n",
       "    }\n",
       "</style>\n",
       "<table border=\"1\" class=\"dataframe\">\n",
       "  <thead>\n",
       "    <tr style=\"text-align: right;\">\n",
       "      <th></th>\n",
       "      <th>date</th>\n",
       "    </tr>\n",
       "  </thead>\n",
       "  <tbody>\n",
       "    <tr>\n",
       "      <th>2017-01-01</th>\n",
       "      <td>342</td>\n",
       "    </tr>\n",
       "    <tr>\n",
       "      <th>2017-07-04</th>\n",
       "      <td>248</td>\n",
       "    </tr>\n",
       "    <tr>\n",
       "      <th>2017-05-28</th>\n",
       "      <td>242</td>\n",
       "    </tr>\n",
       "    <tr>\n",
       "      <th>2016-08-28</th>\n",
       "      <td>230</td>\n",
       "    </tr>\n",
       "    <tr>\n",
       "      <th>2017-04-16</th>\n",
       "      <td>229</td>\n",
       "    </tr>\n",
       "  </tbody>\n",
       "</table>\n",
       "</div>"
      ],
      "text/plain": [
       "            date\n",
       "2017-01-01   342\n",
       "2017-07-04   248\n",
       "2017-05-28   242\n",
       "2016-08-28   230\n",
       "2017-04-16   229"
      ]
     },
     "execution_count": 15,
     "metadata": {},
     "output_type": "execute_result"
    }
   ],
   "source": [
    "pd.DataFrame(dates.date.value_counts().head())\n"
   ]
  },
  {
   "cell_type": "markdown",
   "metadata": {},
   "source": [
    "<h3 align='center'> Análise do dia 4 de Julho (Dia da Independência norte-americana)</h3>\n",
    "\n",
    "### Para o ano de 2014"
   ]
  },
  {
   "cell_type": "code",
   "execution_count": 16,
   "metadata": {
    "scrolled": true
   },
   "outputs": [
    {
     "name": "stdout",
     "output_type": "stream",
     "text": [
      "Número de incidências: 192\n",
      "Numéro de mortos: 48\n",
      "Número de feridos: 92\n"
     ]
    }
   ],
   "source": [
    "IDano2014 = dates[dates.date == pd.to_datetime('2014-07-04')]\n",
    "print(\"Número de incidências: %d\" %IDano2014.shape[0])\n",
    "print(\"Numéro de mortos: %d\" %IDano2014.n_killed.sum())\n",
    "print(\"Número de feridos: %d\" %IDano2014.n_injured.sum())"
   ]
  },
  {
   "cell_type": "markdown",
   "metadata": {},
   "source": [
    "### Para o ano de 2015"
   ]
  },
  {
   "cell_type": "code",
   "execution_count": 17,
   "metadata": {},
   "outputs": [
    {
     "name": "stdout",
     "output_type": "stream",
     "text": [
      "Número de incidências: 211\n",
      "Numéro de mortos: 60\n",
      "Número de feridos: 142\n"
     ]
    }
   ],
   "source": [
    "IDano2015 = dates[dates.date == pd.to_datetime('2015-07-04')]\n",
    "print(\"Número de incidências: %d\" %IDano2015.shape[0])\n",
    "print(\"Numéro de mortos: %d\" %IDano2015.n_killed.sum())\n",
    "print(\"Número de feridos: %d\" %IDano2015.n_injured.sum())"
   ]
  },
  {
   "cell_type": "markdown",
   "metadata": {},
   "source": [
    "### Para o ano de 2016"
   ]
  },
  {
   "cell_type": "code",
   "execution_count": 18,
   "metadata": {},
   "outputs": [
    {
     "name": "stdout",
     "output_type": "stream",
     "text": [
      "Número de incidências: 224\n",
      "Numéro de mortos: 53\n",
      "Número de feridos: 163\n"
     ]
    }
   ],
   "source": [
    "IDano2016 = dates[dates.date == pd.to_datetime('2016-07-04')]\n",
    "print(\"Número de incidências: %d\" %IDano2016.shape[0])\n",
    "print(\"Numéro de mortos: %d\" %IDano2016.n_killed.sum())\n",
    "print(\"Número de feridos: %d\" %IDano2016.n_injured.sum())"
   ]
  },
  {
   "cell_type": "markdown",
   "metadata": {},
   "source": [
    "### Para o ano de 2017"
   ]
  },
  {
   "cell_type": "code",
   "execution_count": 19,
   "metadata": {},
   "outputs": [
    {
     "name": "stdout",
     "output_type": "stream",
     "text": [
      "Número de incidências: 248\n",
      "Numéro de mortos: 62\n",
      "Número de feridos: 146\n"
     ]
    }
   ],
   "source": [
    "IDano2017 = dates[dates.date == pd.to_datetime('2017-07-04')]\n",
    "print(\"Número de incidências: %d\" %IDano2017.shape[0])\n",
    "print(\"Numéro de mortos: %d\" %IDano2017.n_killed.sum())\n",
    "print(\"Número de feridos: %d\" %IDano2017.n_injured.sum())"
   ]
  },
  {
   "cell_type": "markdown",
   "metadata": {},
   "source": [
    "Utilizados para esta análise os dados relativos aos anos de 2014 à 2017. Como vimos, existe um número elevado de incidentes relacionados aos dias 4 e 5 de julho, onde temos um importante feriado para o país, tornando-as uma das datas mais perigosas do ano."
   ]
  },
  {
   "cell_type": "markdown",
   "metadata": {},
   "source": [
    "<h3 align='center'> Análise do dia 01 de Janeiro</h3>\n",
    "\n",
    "### Para o ano de 2014"
   ]
  },
  {
   "cell_type": "code",
   "execution_count": 20,
   "metadata": {
    "scrolled": true
   },
   "outputs": [
    {
     "name": "stdout",
     "output_type": "stream",
     "text": [
      "Número de incidências: 216\n",
      "Numéro de mortos: 50\n",
      "Número de feridos: 132\n"
     ]
    }
   ],
   "source": [
    "NYano2014 = dates[dates.date == pd.to_datetime('2014-01-01')]\n",
    "print(\"Número de incidências: %d\" %NYano2014.shape[0])\n",
    "print(\"Numéro de mortos: %d\" %NYano2014.n_killed.sum())\n",
    "print(\"Número de feridos: %d\" %NYano2014.n_injured.sum())"
   ]
  },
  {
   "cell_type": "markdown",
   "metadata": {},
   "source": [
    "### Para o ano de 2015"
   ]
  },
  {
   "cell_type": "code",
   "execution_count": 21,
   "metadata": {},
   "outputs": [
    {
     "name": "stdout",
     "output_type": "stream",
     "text": [
      "Número de incidências: 214\n",
      "Numéro de mortos: 61\n",
      "Número de feridos: 122\n"
     ]
    }
   ],
   "source": [
    "NYano2015 = dates[dates.date == pd.to_datetime('2015-01-01')]\n",
    "print(\"Número de incidências: %d\" %NYano2015.shape[0])\n",
    "print(\"Numéro de mortos: %d\" %NYano2015.n_killed.sum())\n",
    "print(\"Número de feridos: %d\" %NYano2015.n_injured.sum())"
   ]
  },
  {
   "cell_type": "markdown",
   "metadata": {},
   "source": [
    "### Para o ano de 2016"
   ]
  },
  {
   "cell_type": "code",
   "execution_count": 22,
   "metadata": {},
   "outputs": [
    {
     "name": "stdout",
     "output_type": "stream",
     "text": [
      "Número de incidências: 221\n",
      "Numéro de mortos: 61\n",
      "Número de feridos: 114\n"
     ]
    }
   ],
   "source": [
    "NYano2016 = dates[dates.date == pd.to_datetime('2016-01-01')]\n",
    "print(\"Número de incidências: %d\" %NYano2016.shape[0])\n",
    "print(\"Numéro de mortos: %d\" %NYano2016.n_killed.sum())\n",
    "print(\"Número de feridos: %d\" %NYano2016.n_injured.sum())"
   ]
  },
  {
   "cell_type": "markdown",
   "metadata": {},
   "source": [
    "### Para o ano de 2017"
   ]
  },
  {
   "cell_type": "code",
   "execution_count": 23,
   "metadata": {
    "scrolled": true
   },
   "outputs": [
    {
     "name": "stdout",
     "output_type": "stream",
     "text": [
      "Número de incidências: 342\n",
      "Numéro de mortos: 74\n",
      "Número de feridos: 179\n"
     ]
    }
   ],
   "source": [
    "NYano2017 = dates[dates.date == pd.to_datetime('2017-01-01')]\n",
    "print(\"Número de incidências: %d\" %NYano2017.shape[0])\n",
    "print(\"Numéro de mortos: %d\" %NYano2017.n_killed.sum())\n",
    "print(\"Número de feridos: %d\" %NYano2017.n_injured.sum())"
   ]
  },
  {
   "cell_type": "markdown",
   "metadata": {},
   "source": [
    "<h2 align='center'> Visualizando os dados analisados</h2>"
   ]
  },
  {
   "cell_type": "markdown",
   "metadata": {},
   "source": [
    "Primeiro vamos selecionar os dias mais perigosos de cada ano"
   ]
  },
  {
   "cell_type": "code",
   "execution_count": 24,
   "metadata": {},
   "outputs": [
    {
     "data": {
      "text/plain": [
       "2014-09-06    220\n",
       "2014-01-01    216\n",
       "2014-07-05    212\n",
       "Name: date, dtype: int64"
      ]
     },
     "execution_count": 24,
     "metadata": {},
     "output_type": "execute_result"
    }
   ],
   "source": [
    "top2014 = dates[dates.year == 2014].date.value_counts().head(3)\n",
    "top2014"
   ]
  },
  {
   "cell_type": "code",
   "execution_count": 25,
   "metadata": {},
   "outputs": [
    {
     "data": {
      "text/plain": [
       "2015-01-01    214\n",
       "2015-07-04    211\n",
       "2015-07-05    209\n",
       "Name: date, dtype: int64"
      ]
     },
     "execution_count": 25,
     "metadata": {},
     "output_type": "execute_result"
    }
   ],
   "source": [
    "top2015 = dates[dates.year == 2015].date.value_counts().head(3)\n",
    "top2015"
   ]
  },
  {
   "cell_type": "code",
   "execution_count": 26,
   "metadata": {},
   "outputs": [
    {
     "data": {
      "text/plain": [
       "2016-08-28    230\n",
       "2016-08-21    227\n",
       "2016-07-04    224\n",
       "Name: date, dtype: int64"
      ]
     },
     "execution_count": 26,
     "metadata": {},
     "output_type": "execute_result"
    }
   ],
   "source": [
    "top2016 = dates[dates.year == 2016].date.value_counts().head(3)\n",
    "top2016"
   ]
  },
  {
   "cell_type": "code",
   "execution_count": 27,
   "metadata": {
    "scrolled": true
   },
   "outputs": [
    {
     "data": {
      "text/plain": [
       "2017-01-01    342\n",
       "2017-07-04    248\n",
       "2017-05-28    242\n",
       "Name: date, dtype: int64"
      ]
     },
     "execution_count": 27,
     "metadata": {},
     "output_type": "execute_result"
    }
   ],
   "source": [
    "top2017 = dates[dates.year == 2017].date.value_counts().head(3)\n",
    "top2017"
   ]
  },
  {
   "cell_type": "markdown",
   "metadata": {},
   "source": [
    "Como nos anos de 2015 e 2017 as duas datas em questão são as de maior indice de violência armada, vamos selecionar terceiro dia mais violento desses anos."
   ]
  },
  {
   "cell_type": "code",
   "execution_count": 28,
   "metadata": {},
   "outputs": [
    {
     "data": {
      "text/plain": [
       "(220, 209, 230, 242)"
      ]
     },
     "execution_count": 28,
     "metadata": {},
     "output_type": "execute_result"
    }
   ],
   "source": [
    "tops = (top2014[:1][0],top2015[2:3][0],top2016[:1][0],top2017[2:3][0])\n",
    "tops"
   ]
  },
  {
   "cell_type": "code",
   "execution_count": 29,
   "metadata": {},
   "outputs": [
    {
     "data": {
      "image/png": "[encoded data removed]",
      "text/plain": [
       "<Figure size 432x288 with 1 Axes>"
      ]
     },
     "metadata": {
      "needs_background": "light"
     },
     "output_type": "display_data"
    }
   ],
   "source": [
    "\n",
    "nY = (NYano2014.shape[0],NYano2015.shape[0],NYano2016.shape[0],NYano2017.shape[0])\n",
    "iD = (IDano2014.shape[0],IDano2015.shape[0],IDano2016.shape[0],IDano2017.shape[0])\n",
    "\n",
    "fig, ax = plt.subplots()\n",
    "indice = np.arange(4)\n",
    "bar_larg = 0.2\n",
    "transp = 0.7\n",
    "\n",
    "\n",
    "plt.bar(indice, nY, bar_larg, alpha=transp, color='blue', label='Ano Novo')\n",
    "\n",
    "plt.bar(indice + bar_larg, iD, bar_larg, alpha=transp, color='green', label='Dia da Independência')\n",
    "\n",
    "plt.bar(indice + 2*bar_larg, tops, bar_larg, alpha=transp, color='red', label='Dia mais violento do Ano')\n",
    "\n",
    "\n",
    "plt.xlabel('Anos') \n",
    "plt.ylabel('Quantidade de Crimes') \n",
    "plt.title('Dia da Independência x Ano Novo x Dia mais Violento') \n",
    "plt.xticks(indice + bar_larg, ('2014', '2015', '2016', '2017')) \n",
    "# plt.legend() \n",
    "plt.tight_layout() \n",
    "\n",
    "plt.show()"
   ]
  },
  {
   "cell_type": "markdown",
   "metadata": {},
   "source": [
    "Sendo assim, é visível que os dois feriados em questão, são sem dúvida um dia que deve gerar bastante preocupação para os norte americanos visto que o índice de violência tem se mantido alto, e até mesmo piorado."
   ]
  },
  {
   "cell_type": "markdown",
   "metadata": {},
   "source": [
    "# Conclusão do Relatório"
   ]
  }
 ],
 "metadata": {
  "kernelspec": {
   "display_name": "Python 3",
   "language": "python",
   "name": "python3"
  },
  "language_info": {
   "codemirror_mode": {
    "name": "ipython",
    "version": 3
   },
   "file_extension": ".py",
   "mimetype": "text/x-python",
   "name": "python",
   "nbconvert_exporter": "python",
   "pygments_lexer": "ipython3",
   "version": "3.8.3"
  }
 },
 "nbformat": 4,
 "nbformat_minor": 4
}
